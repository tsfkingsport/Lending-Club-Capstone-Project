{
 "cells": [
  {
   "cell_type": "code",
   "execution_count": 1,
   "metadata": {},
   "outputs": [],
   "source": [
    "import tensorflow as tf\n",
    "import pandas as pd\n",
    "import seaborn as sns\n",
    "import numpy as np\n",
    "import matplotlib.pyplot as plt\n",
    "from collections import Counter\n",
    "\n",
    "%matplotlib inline\n"
   ]
  },
  {
   "cell_type": "code",
   "execution_count": 2,
   "metadata": {},
   "outputs": [
    {
     "data": {
      "text/html": [
       "<div>\n",
       "<style scoped>\n",
       "    .dataframe tbody tr th:only-of-type {\n",
       "        vertical-align: middle;\n",
       "    }\n",
       "\n",
       "    .dataframe tbody tr th {\n",
       "        vertical-align: top;\n",
       "    }\n",
       "\n",
       "    .dataframe thead th {\n",
       "        text-align: right;\n",
       "    }\n",
       "</style>\n",
       "<table border=\"1\" class=\"dataframe\">\n",
       "  <thead>\n",
       "    <tr style=\"text-align: right;\">\n",
       "      <th></th>\n",
       "      <th>id</th>\n",
       "      <th>member_id</th>\n",
       "      <th>loan_amnt</th>\n",
       "      <th>funded_amnt</th>\n",
       "      <th>funded_amnt_inv</th>\n",
       "      <th>term</th>\n",
       "      <th>int_rate</th>\n",
       "      <th>installment</th>\n",
       "      <th>grade</th>\n",
       "      <th>sub_grade</th>\n",
       "      <th>...</th>\n",
       "      <th>hardship_payoff_balance_amount</th>\n",
       "      <th>hardship_last_payment_amount</th>\n",
       "      <th>disbursement_method</th>\n",
       "      <th>debt_settlement_flag</th>\n",
       "      <th>debt_settlement_flag_date</th>\n",
       "      <th>settlement_status</th>\n",
       "      <th>settlement_date</th>\n",
       "      <th>settlement_amount</th>\n",
       "      <th>settlement_percentage</th>\n",
       "      <th>settlement_term</th>\n",
       "    </tr>\n",
       "  </thead>\n",
       "  <tbody>\n",
       "    <tr>\n",
       "      <th>0</th>\n",
       "      <td>NaN</td>\n",
       "      <td>NaN</td>\n",
       "      <td>2500</td>\n",
       "      <td>2500</td>\n",
       "      <td>2500.0</td>\n",
       "      <td>36 months</td>\n",
       "      <td>13.56</td>\n",
       "      <td>84.92</td>\n",
       "      <td>C</td>\n",
       "      <td>C1</td>\n",
       "      <td>...</td>\n",
       "      <td>NaN</td>\n",
       "      <td>NaN</td>\n",
       "      <td>Cash</td>\n",
       "      <td>N</td>\n",
       "      <td>NaN</td>\n",
       "      <td>NaN</td>\n",
       "      <td>NaN</td>\n",
       "      <td>NaN</td>\n",
       "      <td>NaN</td>\n",
       "      <td>NaN</td>\n",
       "    </tr>\n",
       "    <tr>\n",
       "      <th>1</th>\n",
       "      <td>NaN</td>\n",
       "      <td>NaN</td>\n",
       "      <td>30000</td>\n",
       "      <td>30000</td>\n",
       "      <td>30000.0</td>\n",
       "      <td>60 months</td>\n",
       "      <td>18.94</td>\n",
       "      <td>777.23</td>\n",
       "      <td>D</td>\n",
       "      <td>D2</td>\n",
       "      <td>...</td>\n",
       "      <td>NaN</td>\n",
       "      <td>NaN</td>\n",
       "      <td>Cash</td>\n",
       "      <td>N</td>\n",
       "      <td>NaN</td>\n",
       "      <td>NaN</td>\n",
       "      <td>NaN</td>\n",
       "      <td>NaN</td>\n",
       "      <td>NaN</td>\n",
       "      <td>NaN</td>\n",
       "    </tr>\n",
       "    <tr>\n",
       "      <th>2</th>\n",
       "      <td>NaN</td>\n",
       "      <td>NaN</td>\n",
       "      <td>5000</td>\n",
       "      <td>5000</td>\n",
       "      <td>5000.0</td>\n",
       "      <td>36 months</td>\n",
       "      <td>17.97</td>\n",
       "      <td>180.69</td>\n",
       "      <td>D</td>\n",
       "      <td>D1</td>\n",
       "      <td>...</td>\n",
       "      <td>NaN</td>\n",
       "      <td>NaN</td>\n",
       "      <td>Cash</td>\n",
       "      <td>N</td>\n",
       "      <td>NaN</td>\n",
       "      <td>NaN</td>\n",
       "      <td>NaN</td>\n",
       "      <td>NaN</td>\n",
       "      <td>NaN</td>\n",
       "      <td>NaN</td>\n",
       "    </tr>\n",
       "    <tr>\n",
       "      <th>3</th>\n",
       "      <td>NaN</td>\n",
       "      <td>NaN</td>\n",
       "      <td>4000</td>\n",
       "      <td>4000</td>\n",
       "      <td>4000.0</td>\n",
       "      <td>36 months</td>\n",
       "      <td>18.94</td>\n",
       "      <td>146.51</td>\n",
       "      <td>D</td>\n",
       "      <td>D2</td>\n",
       "      <td>...</td>\n",
       "      <td>NaN</td>\n",
       "      <td>NaN</td>\n",
       "      <td>Cash</td>\n",
       "      <td>N</td>\n",
       "      <td>NaN</td>\n",
       "      <td>NaN</td>\n",
       "      <td>NaN</td>\n",
       "      <td>NaN</td>\n",
       "      <td>NaN</td>\n",
       "      <td>NaN</td>\n",
       "    </tr>\n",
       "    <tr>\n",
       "      <th>4</th>\n",
       "      <td>NaN</td>\n",
       "      <td>NaN</td>\n",
       "      <td>30000</td>\n",
       "      <td>30000</td>\n",
       "      <td>30000.0</td>\n",
       "      <td>60 months</td>\n",
       "      <td>16.14</td>\n",
       "      <td>731.78</td>\n",
       "      <td>C</td>\n",
       "      <td>C4</td>\n",
       "      <td>...</td>\n",
       "      <td>NaN</td>\n",
       "      <td>NaN</td>\n",
       "      <td>Cash</td>\n",
       "      <td>N</td>\n",
       "      <td>NaN</td>\n",
       "      <td>NaN</td>\n",
       "      <td>NaN</td>\n",
       "      <td>NaN</td>\n",
       "      <td>NaN</td>\n",
       "      <td>NaN</td>\n",
       "    </tr>\n",
       "  </tbody>\n",
       "</table>\n",
       "<p>5 rows × 145 columns</p>\n",
       "</div>"
      ],
      "text/plain": [
       "   id  member_id  loan_amnt  funded_amnt  funded_amnt_inv        term  \\\n",
       "0 NaN        NaN       2500         2500           2500.0   36 months   \n",
       "1 NaN        NaN      30000        30000          30000.0   60 months   \n",
       "2 NaN        NaN       5000         5000           5000.0   36 months   \n",
       "3 NaN        NaN       4000         4000           4000.0   36 months   \n",
       "4 NaN        NaN      30000        30000          30000.0   60 months   \n",
       "\n",
       "   int_rate  installment grade sub_grade  ... hardship_payoff_balance_amount  \\\n",
       "0     13.56        84.92     C        C1  ...                            NaN   \n",
       "1     18.94       777.23     D        D2  ...                            NaN   \n",
       "2     17.97       180.69     D        D1  ...                            NaN   \n",
       "3     18.94       146.51     D        D2  ...                            NaN   \n",
       "4     16.14       731.78     C        C4  ...                            NaN   \n",
       "\n",
       "  hardship_last_payment_amount disbursement_method  debt_settlement_flag  \\\n",
       "0                          NaN                Cash                     N   \n",
       "1                          NaN                Cash                     N   \n",
       "2                          NaN                Cash                     N   \n",
       "3                          NaN                Cash                     N   \n",
       "4                          NaN                Cash                     N   \n",
       "\n",
       "  debt_settlement_flag_date settlement_status settlement_date  \\\n",
       "0                       NaN               NaN             NaN   \n",
       "1                       NaN               NaN             NaN   \n",
       "2                       NaN               NaN             NaN   \n",
       "3                       NaN               NaN             NaN   \n",
       "4                       NaN               NaN             NaN   \n",
       "\n",
       "  settlement_amount  settlement_percentage settlement_term  \n",
       "0               NaN                    NaN             NaN  \n",
       "1               NaN                    NaN             NaN  \n",
       "2               NaN                    NaN             NaN  \n",
       "3               NaN                    NaN             NaN  \n",
       "4               NaN                    NaN             NaN  \n",
       "\n",
       "[5 rows x 145 columns]"
      ]
     },
     "execution_count": 2,
     "metadata": {},
     "output_type": "execute_result"
    }
   ],
   "source": [
    "df = pd.read_csv(r\"F:\\My Documents\\Lending Club Data\\lending-club-loan-data\\loan.csv\",\n",
    "                low_memory = False)\n",
    "\n",
    "#original_df = df.copy()\n",
    "\n",
    "df.head()"
   ]
  },
  {
   "cell_type": "code",
   "execution_count": 3,
   "metadata": {},
   "outputs": [
    {
     "name": "stdout",
     "output_type": "stream",
     "text": [
      "(2260668, 145)\n",
      "<class 'pandas.core.frame.DataFrame'>\n",
      "RangeIndex: 2260668 entries, 0 to 2260667\n",
      "Columns: 145 entries, id to settlement_term\n",
      "dtypes: float64(105), int64(4), object(36)\n",
      "memory usage: 2.4+ GB\n"
     ]
    }
   ],
   "source": [
    "print(df.shape)\n",
    "df.info()"
   ]
  },
  {
   "cell_type": "code",
   "execution_count": 4,
   "metadata": {},
   "outputs": [
    {
     "data": {
      "text/plain": [
       "id                                            2260668\n",
       "member_id                                     2260668\n",
       "url                                           2260668\n",
       "orig_projected_additional_accrued_interest    2252242\n",
       "hardship_start_date                           2250055\n",
       "hardship_end_date                             2250055\n",
       "payment_plan_start_date                       2250055\n",
       "hardship_length                               2250055\n",
       "hardship_dpd                                  2250055\n",
       "hardship_loan_status                          2250055\n",
       "hardship_payoff_balance_amount                2250055\n",
       "deferral_term                                 2250055\n",
       "hardship_last_payment_amount                  2250055\n",
       "hardship_status                               2250055\n",
       "hardship_reason                               2250055\n",
       "hardship_type                                 2250055\n",
       "hardship_amount                               2250055\n",
       "settlement_percentage                         2227612\n",
       "settlement_term                               2227612\n",
       "settlement_status                             2227612\n",
       "debt_settlement_flag_date                     2227612\n",
       "settlement_amount                             2227612\n",
       "settlement_date                               2227612\n",
       "sec_app_mths_since_last_major_derog           2224726\n",
       "sec_app_revol_util                            2154484\n",
       "revol_bal_joint                               2152648\n",
       "sec_app_mort_acc                              2152647\n",
       "sec_app_collections_12_mths_ex_med            2152647\n",
       "sec_app_chargeoff_within_12_mths              2152647\n",
       "sec_app_num_rev_accts                         2152647\n",
       "                                               ...   \n",
       "installment                                         0\n",
       "verification_status                                 0\n",
       "home_ownership                                      0\n",
       "sub_grade                                           0\n",
       "grade                                               0\n",
       "int_rate                                            0\n",
       "term                                                0\n",
       "funded_amnt_inv                                     0\n",
       "funded_amnt                                         0\n",
       "pymnt_plan                                          0\n",
       "hardship_flag                                       0\n",
       "loan_amnt                                           0\n",
       "recoveries                                          0\n",
       "purpose                                             0\n",
       "total_rec_int                                       0\n",
       "debt_settlement_flag                                0\n",
       "application_type                                    0\n",
       "policy_code                                         0\n",
       "last_pymnt_amnt                                     0\n",
       "collection_recovery_fee                             0\n",
       "total_rec_late_fee                                  0\n",
       "total_rec_prncp                                     0\n",
       "addr_state                                          0\n",
       "total_pymnt_inv                                     0\n",
       "total_pymnt                                         0\n",
       "out_prncp_inv                                       0\n",
       "out_prncp                                           0\n",
       "initial_list_status                                 0\n",
       "revol_bal                                           0\n",
       "disbursement_method                                 0\n",
       "Length: 145, dtype: int64"
      ]
     },
     "execution_count": 4,
     "metadata": {},
     "output_type": "execute_result"
    }
   ],
   "source": [
    "df.isnull().sum().sort_values(ascending = False)"
   ]
  },
  {
   "cell_type": "markdown",
   "metadata": {},
   "source": [
    "There are multiple columns where every value is null so those columns will be removed. There seem to be about 100,000 rows that have values related to hardship and the rest of the loans have nothing in regards to hardships which makes sense. I will keep the original dataframe but I will remove multiple columns from my working dataframe.\n",
    "\n",
    "Luckily there is an excel document that came with this data that explains the columns and terms being used. \n",
    "\n",
    "orig_projected_additional_accrued_interest has the description: The original projected additional interest amount that will accrue for the given hardship payment plan as of the Hardship Start Date. This field will be null if the borrower has broken their hardship payment plan."
   ]
  },
  {
   "cell_type": "code",
   "execution_count": 5,
   "metadata": {},
   "outputs": [
    {
     "data": {
      "text/html": [
       "<div>\n",
       "<style scoped>\n",
       "    .dataframe tbody tr th:only-of-type {\n",
       "        vertical-align: middle;\n",
       "    }\n",
       "\n",
       "    .dataframe tbody tr th {\n",
       "        vertical-align: top;\n",
       "    }\n",
       "\n",
       "    .dataframe thead th {\n",
       "        text-align: right;\n",
       "    }\n",
       "</style>\n",
       "<table border=\"1\" class=\"dataframe\">\n",
       "  <thead>\n",
       "    <tr style=\"text-align: right;\">\n",
       "      <th></th>\n",
       "      <th>id</th>\n",
       "      <th>member_id</th>\n",
       "      <th>loan_amnt</th>\n",
       "      <th>funded_amnt</th>\n",
       "      <th>funded_amnt_inv</th>\n",
       "      <th>term</th>\n",
       "      <th>int_rate</th>\n",
       "      <th>installment</th>\n",
       "      <th>grade</th>\n",
       "      <th>sub_grade</th>\n",
       "      <th>...</th>\n",
       "      <th>hardship_payoff_balance_amount</th>\n",
       "      <th>hardship_last_payment_amount</th>\n",
       "      <th>disbursement_method</th>\n",
       "      <th>debt_settlement_flag</th>\n",
       "      <th>debt_settlement_flag_date</th>\n",
       "      <th>settlement_status</th>\n",
       "      <th>settlement_date</th>\n",
       "      <th>settlement_amount</th>\n",
       "      <th>settlement_percentage</th>\n",
       "      <th>settlement_term</th>\n",
       "    </tr>\n",
       "  </thead>\n",
       "  <tbody>\n",
       "    <tr>\n",
       "      <th>0</th>\n",
       "      <td>NaN</td>\n",
       "      <td>NaN</td>\n",
       "      <td>2500</td>\n",
       "      <td>2500</td>\n",
       "      <td>2500.0</td>\n",
       "      <td>36 months</td>\n",
       "      <td>13.56</td>\n",
       "      <td>84.92</td>\n",
       "      <td>C</td>\n",
       "      <td>C1</td>\n",
       "      <td>...</td>\n",
       "      <td>NaN</td>\n",
       "      <td>NaN</td>\n",
       "      <td>Cash</td>\n",
       "      <td>N</td>\n",
       "      <td>NaN</td>\n",
       "      <td>NaN</td>\n",
       "      <td>NaN</td>\n",
       "      <td>NaN</td>\n",
       "      <td>NaN</td>\n",
       "      <td>NaN</td>\n",
       "    </tr>\n",
       "    <tr>\n",
       "      <th>1</th>\n",
       "      <td>NaN</td>\n",
       "      <td>NaN</td>\n",
       "      <td>30000</td>\n",
       "      <td>30000</td>\n",
       "      <td>30000.0</td>\n",
       "      <td>60 months</td>\n",
       "      <td>18.94</td>\n",
       "      <td>777.23</td>\n",
       "      <td>D</td>\n",
       "      <td>D2</td>\n",
       "      <td>...</td>\n",
       "      <td>NaN</td>\n",
       "      <td>NaN</td>\n",
       "      <td>Cash</td>\n",
       "      <td>N</td>\n",
       "      <td>NaN</td>\n",
       "      <td>NaN</td>\n",
       "      <td>NaN</td>\n",
       "      <td>NaN</td>\n",
       "      <td>NaN</td>\n",
       "      <td>NaN</td>\n",
       "    </tr>\n",
       "    <tr>\n",
       "      <th>2</th>\n",
       "      <td>NaN</td>\n",
       "      <td>NaN</td>\n",
       "      <td>5000</td>\n",
       "      <td>5000</td>\n",
       "      <td>5000.0</td>\n",
       "      <td>36 months</td>\n",
       "      <td>17.97</td>\n",
       "      <td>180.69</td>\n",
       "      <td>D</td>\n",
       "      <td>D1</td>\n",
       "      <td>...</td>\n",
       "      <td>NaN</td>\n",
       "      <td>NaN</td>\n",
       "      <td>Cash</td>\n",
       "      <td>N</td>\n",
       "      <td>NaN</td>\n",
       "      <td>NaN</td>\n",
       "      <td>NaN</td>\n",
       "      <td>NaN</td>\n",
       "      <td>NaN</td>\n",
       "      <td>NaN</td>\n",
       "    </tr>\n",
       "    <tr>\n",
       "      <th>3</th>\n",
       "      <td>NaN</td>\n",
       "      <td>NaN</td>\n",
       "      <td>4000</td>\n",
       "      <td>4000</td>\n",
       "      <td>4000.0</td>\n",
       "      <td>36 months</td>\n",
       "      <td>18.94</td>\n",
       "      <td>146.51</td>\n",
       "      <td>D</td>\n",
       "      <td>D2</td>\n",
       "      <td>...</td>\n",
       "      <td>NaN</td>\n",
       "      <td>NaN</td>\n",
       "      <td>Cash</td>\n",
       "      <td>N</td>\n",
       "      <td>NaN</td>\n",
       "      <td>NaN</td>\n",
       "      <td>NaN</td>\n",
       "      <td>NaN</td>\n",
       "      <td>NaN</td>\n",
       "      <td>NaN</td>\n",
       "    </tr>\n",
       "    <tr>\n",
       "      <th>4</th>\n",
       "      <td>NaN</td>\n",
       "      <td>NaN</td>\n",
       "      <td>30000</td>\n",
       "      <td>30000</td>\n",
       "      <td>30000.0</td>\n",
       "      <td>60 months</td>\n",
       "      <td>16.14</td>\n",
       "      <td>731.78</td>\n",
       "      <td>C</td>\n",
       "      <td>C4</td>\n",
       "      <td>...</td>\n",
       "      <td>NaN</td>\n",
       "      <td>NaN</td>\n",
       "      <td>Cash</td>\n",
       "      <td>N</td>\n",
       "      <td>NaN</td>\n",
       "      <td>NaN</td>\n",
       "      <td>NaN</td>\n",
       "      <td>NaN</td>\n",
       "      <td>NaN</td>\n",
       "      <td>NaN</td>\n",
       "    </tr>\n",
       "  </tbody>\n",
       "</table>\n",
       "<p>5 rows × 145 columns</p>\n",
       "</div>"
      ],
      "text/plain": [
       "   id  member_id  loan_amnt  funded_amnt  funded_amnt_inv        term  \\\n",
       "0 NaN        NaN       2500         2500           2500.0   36 months   \n",
       "1 NaN        NaN      30000        30000          30000.0   60 months   \n",
       "2 NaN        NaN       5000         5000           5000.0   36 months   \n",
       "3 NaN        NaN       4000         4000           4000.0   36 months   \n",
       "4 NaN        NaN      30000        30000          30000.0   60 months   \n",
       "\n",
       "   int_rate  installment grade sub_grade  ... hardship_payoff_balance_amount  \\\n",
       "0     13.56        84.92     C        C1  ...                            NaN   \n",
       "1     18.94       777.23     D        D2  ...                            NaN   \n",
       "2     17.97       180.69     D        D1  ...                            NaN   \n",
       "3     18.94       146.51     D        D2  ...                            NaN   \n",
       "4     16.14       731.78     C        C4  ...                            NaN   \n",
       "\n",
       "  hardship_last_payment_amount disbursement_method  debt_settlement_flag  \\\n",
       "0                          NaN                Cash                     N   \n",
       "1                          NaN                Cash                     N   \n",
       "2                          NaN                Cash                     N   \n",
       "3                          NaN                Cash                     N   \n",
       "4                          NaN                Cash                     N   \n",
       "\n",
       "  debt_settlement_flag_date settlement_status settlement_date  \\\n",
       "0                       NaN               NaN             NaN   \n",
       "1                       NaN               NaN             NaN   \n",
       "2                       NaN               NaN             NaN   \n",
       "3                       NaN               NaN             NaN   \n",
       "4                       NaN               NaN             NaN   \n",
       "\n",
       "  settlement_amount  settlement_percentage settlement_term  \n",
       "0               NaN                    NaN             NaN  \n",
       "1               NaN                    NaN             NaN  \n",
       "2               NaN                    NaN             NaN  \n",
       "3               NaN                    NaN             NaN  \n",
       "4               NaN                    NaN             NaN  \n",
       "\n",
       "[5 rows x 145 columns]"
      ]
     },
     "execution_count": 5,
     "metadata": {},
     "output_type": "execute_result"
    }
   ],
   "source": [
    "df.head()"
   ]
  },
  {
   "cell_type": "code",
   "execution_count": 6,
   "metadata": {},
   "outputs": [],
   "source": [
    "df = df.drop(['id', 'member_id', 'url'], axis = 1)\n"
   ]
  },
  {
   "cell_type": "code",
   "execution_count": 7,
   "metadata": {},
   "outputs": [
    {
     "data": {
      "text/plain": [
       "(2260668, 142)"
      ]
     },
     "execution_count": 7,
     "metadata": {},
     "output_type": "execute_result"
    }
   ],
   "source": [
    "df.shape"
   ]
  },
  {
   "cell_type": "code",
   "execution_count": 8,
   "metadata": {},
   "outputs": [
    {
     "data": {
      "text/plain": [
       "Text(0.5, 1.0, 'Amount applied for by borrower')"
      ]
     },
     "execution_count": 8,
     "metadata": {},
     "output_type": "execute_result"
    },
    {
     "data": {
      "image/png": "[encoded data removed]",
      "text/plain": [
       "<Figure size 432x288 with 1 Axes>"
      ]
     },
     "metadata": {
      "needs_background": "light"
     },
     "output_type": "display_data"
    }
   ],
   "source": [
    "sns.distplot(df['loan_amnt']).set_title('Amount applied for by borrower')\n",
    "#Can turn into histogram to make a count instead of percentage"
   ]
  },
  {
   "cell_type": "code",
   "execution_count": 9,
   "metadata": {},
   "outputs": [
    {
     "data": {
      "text/plain": [
       "0    Dec-2018\n",
       "1    Dec-2018\n",
       "2    Dec-2018\n",
       "3    Dec-2018\n",
       "4    Dec-2018\n",
       "Name: issue_d, dtype: object"
      ]
     },
     "execution_count": 9,
     "metadata": {},
     "output_type": "execute_result"
    }
   ],
   "source": [
    "df['issue_d'].head()"
   ]
  },
  {
   "cell_type": "code",
   "execution_count": 10,
   "metadata": {},
   "outputs": [],
   "source": [
    "df['issue_year'] = pd.to_datetime(df['issue_d']).dt.year"
   ]
  },
  {
   "cell_type": "code",
   "execution_count": 11,
   "metadata": {},
   "outputs": [
    {
     "data": {
      "text/plain": [
       "<matplotlib.axes._subplots.AxesSubplot at 0x1ae00100160>"
      ]
     },
     "execution_count": 11,
     "metadata": {},
     "output_type": "execute_result"
    },
    {
     "data": {
      "image/png": "[encoded data removed]",
      "text/plain": [
       "<Figure size 432x288 with 1 Axes>"
      ]
     },
     "metadata": {
      "needs_background": "light"
     },
     "output_type": "display_data"
    }
   ],
   "source": [
    "sns.barplot('issue_year', 'loan_amnt', data = df, palette = 'bright')"
   ]
  },
  {
   "cell_type": "code",
   "execution_count": 12,
   "metadata": {},
   "outputs": [
    {
     "data": {
      "text/plain": [
       "<matplotlib.axes._subplots.AxesSubplot at 0x1ae001f0be0>"
      ]
     },
     "execution_count": 12,
     "metadata": {},
     "output_type": "execute_result"
    },
    {
     "data": {
      "image/png": "[encoded data removed]",
      "text/plain": [
       "<Figure size 432x288 with 1 Axes>"
      ]
     },
     "metadata": {
      "needs_background": "light"
     },
     "output_type": "display_data"
    }
   ],
   "source": [
    "sns.countplot('issue_year', data = df, palette = 'bright')\n",
    "#How do I plot number of issues loans per year into this bar plot?\n",
    "#Found out how to do it, countplot. Found how by typing \"sns barplot occurrences per year\"\n",
    "#into Google and seeing the documentation for countplot."
   ]
  },
  {
   "cell_type": "markdown",
   "metadata": {},
   "source": [
    "Wow that is some really impressive growth.  Assuming of course that this dataset is representative of all of Lending Club's loans. I will do a count of how many occurances of each year there are. "
   ]
  },
  {
   "cell_type": "code",
   "execution_count": 13,
   "metadata": {},
   "outputs": [],
   "source": [
    "#df['issue_year'].unique().value_counts\n",
    "#The above code did not work, I am going to try Counter now"
   ]
  },
  {
   "cell_type": "code",
   "execution_count": 14,
   "metadata": {},
   "outputs": [
    {
     "data": {
      "text/plain": [
       "Counter({2018: 495242,\n",
       "         2016: 434407,\n",
       "         2015: 421095,\n",
       "         2017: 443579,\n",
       "         2013: 134814,\n",
       "         2012: 53367,\n",
       "         2014: 235629,\n",
       "         2011: 21721,\n",
       "         2010: 12537,\n",
       "         2009: 5281,\n",
       "         2008: 2393,\n",
       "         2007: 603})"
      ]
     },
     "execution_count": 14,
     "metadata": {},
     "output_type": "execute_result"
    }
   ],
   "source": [
    "Counter(df['issue_year'])\n",
    "#It works"
   ]
  },
  {
   "cell_type": "code",
   "execution_count": 15,
   "metadata": {},
   "outputs": [
    {
     "data": {
      "text/plain": [
       "array(['Current', 'Fully Paid', 'Late (31-120 days)', 'In Grace Period',\n",
       "       'Charged Off', 'Late (16-30 days)', 'Default',\n",
       "       'Does not meet the credit policy. Status:Fully Paid',\n",
       "       'Does not meet the credit policy. Status:Charged Off'],\n",
       "      dtype=object)"
      ]
     },
     "execution_count": 15,
     "metadata": {},
     "output_type": "execute_result"
    }
   ],
   "source": [
    "df['loan_status'].unique()"
   ]
  },
  {
   "cell_type": "code",
   "execution_count": 16,
   "metadata": {},
   "outputs": [
    {
     "data": {
      "text/plain": [
       "Fully Paid                                             1041952\n",
       "Current                                                 919695\n",
       "Charged Off                                             261655\n",
       "Late (31-120 days)                                       21897\n",
       "In Grace Period                                           8952\n",
       "Late (16-30 days)                                         3737\n",
       "Does not meet the credit policy. Status:Fully Paid        1988\n",
       "Does not meet the credit policy. Status:Charged Off        761\n",
       "Default                                                     31\n",
       "Name: loan_status, dtype: int64"
      ]
     },
     "execution_count": 16,
     "metadata": {},
     "output_type": "execute_result"
    }
   ],
   "source": [
    "df['loan_status'].value_counts()"
   ]
  },
  {
   "cell_type": "markdown",
   "metadata": {},
   "source": [
    "There are multiple categories that reasonably count as bad loans.  Charged Off a loan taken off the books due to no reasonable expectation of payment. https://help.lendingclub.com/hc/en-us/articles/216127747-What-is-the-difference-between-a-loan-that-is-in-default-and-a-loan-that-has-been-charged-off-\n",
    "\n",
    "The categories I will consider bad are Charged Off, Late(both 16-30 days and 31-120 days), default and \"Does not meet the credit policy. Status:Charged Off\"(I still don't know what credit policy the loan does not meet but I know enough to know any loan in this category is bad)."
   ]
  },
  {
   "cell_type": "code",
   "execution_count": 17,
   "metadata": {},
   "outputs": [
    {
     "data": {
      "text/plain": [
       "0    1\n",
       "1    1\n",
       "2    1\n",
       "3    1\n",
       "4    1\n",
       "Name: good_loan, dtype: int64"
      ]
     },
     "execution_count": 17,
     "metadata": {},
     "output_type": "execute_result"
    }
   ],
   "source": [
    "bad_statuses = ['Charged Off', 'Late (31-120 days)', 'Late (16-30 days)',\n",
    "               'Does not meet the credit policy. Status:Charged Off', 'Default']\n",
    "\n",
    "df['good_loan'] = np.nan\n",
    "\n",
    "def loan_classifier(status):\n",
    "    if status in bad_statuses:\n",
    "        return 0\n",
    "    else:\n",
    "        return 1\n",
    "    \n",
    "df['good_loan'] = df['loan_status'].apply(loan_classifier)\n",
    "\n",
    "df['good_loan'].head()"
   ]
  },
  {
   "cell_type": "markdown",
   "metadata": {},
   "source": [
    "## Mentor Idea\n",
    "Maybe I should target the bad loans as my target variable.  This was suggested by Noyuki. Google more on oversampling to understand the issues that are created from imbalanced data. "
   ]
  },
  {
   "cell_type": "code",
   "execution_count": 18,
   "metadata": {},
   "outputs": [
    {
     "data": {
      "text/plain": [
       "Counter({1: 1972587, 0: 288081})"
      ]
     },
     "execution_count": 18,
     "metadata": {},
     "output_type": "execute_result"
    }
   ],
   "source": [
    "Counter(df['good_loan'])"
   ]
  },
  {
   "cell_type": "code",
   "execution_count": 19,
   "metadata": {},
   "outputs": [
    {
     "name": "stdout",
     "output_type": "stream",
     "text": [
      "0.14604222779527595\n",
      "The current percentage of bad loans is 14.604222779527595%\n"
     ]
    }
   ],
   "source": [
    "print(Counter(df['good_loan'])[0]/Counter(df['good_loan'])[1])\n",
    "print(\"The current percentage of bad loans is {}%\".format((Counter(df['good_loan'])[0]/Counter(df['good_loan'])[1]) * 100))"
   ]
  },
  {
   "cell_type": "markdown",
   "metadata": {},
   "source": [
    "I do not know if this makes Lending Club loans better or worse then the competition because I have no idea what results the competition is getting but at least I have a number to work with.  "
   ]
  },
  {
   "cell_type": "code",
   "execution_count": 20,
   "metadata": {},
   "outputs": [
    {
     "data": {
      "text/plain": [
       "<matplotlib.axes._subplots.AxesSubplot at 0x1ae0026d080>"
      ]
     },
     "execution_count": 20,
     "metadata": {},
     "output_type": "execute_result"
    },
    {
     "data": {
      "image/png": "[encoded data removed]",
      "text/plain": [
       "<Figure size 432x288 with 1 Axes>"
      ]
     },
     "metadata": {
      "needs_background": "light"
     },
     "output_type": "display_data"
    }
   ],
   "source": [
    "sns.countplot('issue_year',hue = 'good_loan', data = df, palette = 'bright',)\n",
    "\n",
    "#How would I relabel the 0's to be bad and the 1's to be good?"
   ]
  },
  {
   "cell_type": "markdown",
   "metadata": {},
   "source": [
    "INvestigate, if possible, whether the loans are becoming better over time or if it usually takes a few years for a loan to turn bad.  I don't know currently. "
   ]
  },
  {
   "cell_type": "markdown",
   "metadata": {},
   "source": [
    "Next is feature selection"
   ]
  },
  {
   "cell_type": "code",
   "execution_count": 21,
   "metadata": {},
   "outputs": [
    {
     "name": "stdout",
     "output_type": "stream",
     "text": [
      "recoveries                                   -0.490569\n",
      "collection_recovery_fee                      -0.465110\n",
      "hardship_dpd                                 -0.232085\n",
      "int_rate                                     -0.206668\n",
      "total_rec_late_fee                           -0.131513\n",
      "sec_app_inq_last_6mths                       -0.097421\n",
      "acc_open_past_24mths                         -0.094552\n",
      "inq_last_6mths                               -0.086853\n",
      "num_tl_op_past_12m                           -0.084050\n",
      "hardship_amount                              -0.083270\n",
      "open_rv_24m                                  -0.079876\n",
      "percent_bc_gt_75                             -0.074229\n",
      "inq_last_12m                                 -0.074013\n",
      "bc_util                                      -0.071613\n",
      "orig_projected_additional_accrued_interest   -0.070585\n",
      "all_util                                     -0.069046\n",
      "open_acc_6m                                  -0.067543\n",
      "open_rv_12m                                  -0.065152\n",
      "revol_util                                   -0.063878\n",
      "open_il_24m                                  -0.058842\n",
      "open_il_12m                                  -0.058639\n",
      "il_util                                      -0.056368\n",
      "sec_app_collections_12_mths_ex_med           -0.053838\n",
      "sec_app_revol_util                           -0.052956\n",
      "hardship_payoff_balance_amount               -0.051501\n",
      "num_actv_rev_tl                              -0.050837\n",
      "num_rev_tl_bal_gt_0                          -0.049704\n",
      "total_rec_int                                -0.049279\n",
      "hardship_last_payment_amount                 -0.048400\n",
      "dti_joint                                    -0.048073\n",
      "                                                ...   \n",
      "annual_inc                                    0.024018\n",
      "mths_since_rcnt_il                            0.031183\n",
      "mo_sin_old_rev_tl_op                          0.037338\n",
      "max_bal_bc                                    0.037592\n",
      "mort_acc                                      0.038490\n",
      "mths_since_recent_bc                          0.047760\n",
      "annual_inc_joint                              0.048382\n",
      "sec_app_mort_acc                              0.048746\n",
      "settlement_percentage                         0.053619\n",
      "tot_cur_bal                                   0.053761\n",
      "mo_sin_rcnt_rev_tl_op                         0.055413\n",
      "mo_sin_rcnt_tl                                0.055781\n",
      "total_rev_hi_lim                              0.057001\n",
      "avg_cur_bal                                   0.057845\n",
      "mths_since_recent_inq                         0.061342\n",
      "tot_hi_cred_lim                               0.063715\n",
      "sec_app_mths_since_last_major_derog           0.070943\n",
      "total_bc_limit                                0.075288\n",
      "bc_open_to_buy                                0.082387\n",
      "issue_year                                    0.132084\n",
      "total_pymnt                                   0.137158\n",
      "total_pymnt_inv                               0.137203\n",
      "out_prncp_inv                                 0.174656\n",
      "out_prncp                                     0.174673\n",
      "last_pymnt_amnt                               0.184790\n",
      "total_rec_prncp                               0.222189\n",
      "good_loan                                     1.000000\n",
      "policy_code                                        NaN\n",
      "deferral_term                                      NaN\n",
      "hardship_length                                    NaN\n",
      "Name: good_loan, Length: 108, dtype: float64\n"
     ]
    }
   ],
   "source": [
    "corr = df.corr().loc[:, 'good_loan'].sort_values()\n",
    "#Select the top 10 features then see what a regression does\n",
    "#use iloc to find the column that has good loans \n",
    "# df.corr.loc[:, 'good_loan'].sort_values()\n",
    "#feature_list = corr[-20:]\n",
    "print(corr)"
   ]
  },
  {
   "cell_type": "markdown",
   "metadata": {},
   "source": [
    "After this select the top 20-50 columns(and bottom ones that have a negative correlation) and do a logistic regression.  After this use Naive Bayes, random forest, gradient boost \n",
    "\n"
   ]
  },
  {
   "cell_type": "markdown",
   "metadata": {},
   "source": [
    "When constructing the training data make sure to have a 50/50 sample of good and bad loans when constructing the training set.  For the testing set be sure to keep the original ratio of about 14% bad loans. \n",
    "\n",
    "https://imbalanced-learn.readthedocs.io/en/stable/generated/imblearn.over_sampling.SMOTE.html\n",
    "\n",
    "This was recommended by Noyuki.\n",
    "\n",
    "When constructing this model reduce type 2 error as much as possible, this one is priority.  \n",
    "\n",
    "After the basic regression model try classification report, random forest, gradient boost, xgboost to make more accurate models. \n",
    "\n",
    "Look up more on random forest and grid search, also what recall means in this context and with random forests. \n",
    "\n",
    "Random forests also make it easier to see feature importance to rank the features. "
   ]
  },
  {
   "cell_type": "markdown",
   "metadata": {},
   "source": [
    "After this make the next steps and what questions we could answer with more information. \n",
    "\n",
    "Also try embedding images to make things look a bit better. \n",
    "\n",
    "Might make a powerpoint to present to the audience, or to make a powerpoint for a general audience and Jupyter Notebook for a more technical presentation. "
   ]
  },
  {
   "cell_type": "code",
   "execution_count": 22,
   "metadata": {},
   "outputs": [],
   "source": [
    "from sklearn.model_selection import train_test_split\n",
    "from sklearn.ensemble import RandomForestClassifier"
   ]
  },
  {
   "cell_type": "markdown",
   "metadata": {},
   "source": [
    "Some of the variables are very simliar in function and correlation so I should remove some of them, example: total_pymnt and total_pymnt_inv"
   ]
  },
  {
   "cell_type": "code",
   "execution_count": 23,
   "metadata": {},
   "outputs": [
    {
     "name": "stdout",
     "output_type": "stream",
     "text": [
      "1    0.872568\n",
      "0    0.127432\n",
      "Name: good_loan, dtype: float64\n"
     ]
    }
   ],
   "source": [
    "print(df['good_loan'].value_counts(normalize = True))\n",
    "X = df.drop(['good_loan'], axis = 1)\n",
    "y = df['good_loan']"
   ]
  },
  {
   "cell_type": "code",
   "execution_count": 24,
   "metadata": {
    "scrolled": true
   },
   "outputs": [
    {
     "name": "stdout",
     "output_type": "stream",
     "text": [
      "<class 'pandas.core.frame.DataFrame'>\n",
      "RangeIndex: 2260668 entries, 0 to 2260667\n",
      "Columns: 144 entries, loan_amnt to good_loan\n",
      "dtypes: float64(102), int64(6), object(36)\n",
      "memory usage: 2.4+ GB\n"
     ]
    }
   ],
   "source": [
    "df.info()\n",
    "\n",
    "df.columns[df.columns.str.isnumeric()]\n",
    "placeholder_df = df.select_dtypes(exclude = ['object'])    "
   ]
  },
  {
   "cell_type": "code",
   "execution_count": 25,
   "metadata": {
    "scrolled": true
   },
   "outputs": [
    {
     "name": "stdout",
     "output_type": "stream",
     "text": [
      "<class 'pandas.core.frame.DataFrame'>\n",
      "RangeIndex: 2260668 entries, 0 to 2260667\n",
      "Columns: 108 entries, loan_amnt to good_loan\n",
      "dtypes: float64(102), int64(6)\n",
      "memory usage: 1.8 GB\n"
     ]
    }
   ],
   "source": [
    "placeholder_df.info()\n",
    "df = placeholder_df\n",
    "X = df.drop(['good_loan'], axis = 1)\n",
    "y = df['good_loan']"
   ]
  },
  {
   "cell_type": "code",
   "execution_count": 26,
   "metadata": {},
   "outputs": [],
   "source": [
    "#X_train, X_test, y_train, y_test = train_test_split(X, y, test_size = .2 )\n",
    "#rfc = RandomForestClassifier(n_estimators = 100)\n",
    "\n",
    "#rfc.fit(X_train, y_train)"
   ]
  },
  {
   "cell_type": "markdown",
   "metadata": {},
   "source": [
    "When I typed this: \n",
    "X_train, X_test, y_train, y_test = train_test_split(X, y, test_size = .2 )\n",
    "rfc = RandomForestClassifier(n_estimators = 100)\n",
    "\n",
    "rfc.fit(X_train, y_train)\n",
    "\n",
    "THis happened:\n",
    "\n",
    "ValueError: could not convert string to float: ' 36 months'"
   ]
  },
  {
   "cell_type": "code",
   "execution_count": 27,
   "metadata": {},
   "outputs": [
    {
     "name": "stdout",
     "output_type": "stream",
     "text": [
      "orig_projected_additional_accrued_interest    2252242\n",
      "hardship_amount                               2250055\n",
      "hardship_last_payment_amount                  2250055\n",
      "hardship_payoff_balance_amount                2250055\n",
      "hardship_dpd                                  2250055\n",
      "hardship_length                               2250055\n",
      "deferral_term                                 2250055\n",
      "settlement_term                               2227612\n",
      "settlement_percentage                         2227612\n",
      "settlement_amount                             2227612\n",
      "sec_app_mths_since_last_major_derog           2224726\n",
      "sec_app_revol_util                            2154484\n",
      "revol_bal_joint                               2152648\n",
      "sec_app_open_act_il                           2152647\n",
      "sec_app_open_acc                              2152647\n",
      "sec_app_collections_12_mths_ex_med            2152647\n",
      "sec_app_num_rev_accts                         2152647\n",
      "sec_app_chargeoff_within_12_mths              2152647\n",
      "sec_app_inq_last_6mths                        2152647\n",
      "sec_app_mort_acc                              2152647\n",
      "dti_joint                                     2139962\n",
      "annual_inc_joint                              2139958\n",
      "mths_since_last_record                        1901512\n",
      "mths_since_recent_bc_dlq                      1740967\n",
      "mths_since_last_major_derog                   1679893\n",
      "mths_since_recent_revol_delinq                1520309\n",
      "mths_since_last_delinq                        1158502\n",
      "il_util                                       1068850\n",
      "mths_since_rcnt_il                             909924\n",
      "all_util                                       866348\n",
      "                                               ...   \n",
      "collections_12_mths_ex_med                        145\n",
      "chargeoff_within_12_mths                          145\n",
      "tax_liens                                         105\n",
      "inq_last_6mths                                     30\n",
      "delinq_2yrs                                        29\n",
      "delinq_amnt                                        29\n",
      "open_acc                                           29\n",
      "pub_rec                                            29\n",
      "total_acc                                          29\n",
      "acc_now_delinq                                     29\n",
      "annual_inc                                          4\n",
      "revol_bal                                           0\n",
      "funded_amnt_inv                                     0\n",
      "int_rate                                            0\n",
      "installment                                         0\n",
      "funded_amnt                                         0\n",
      "good_loan                                           0\n",
      "out_prncp                                           0\n",
      "out_prncp_inv                                       0\n",
      "total_pymnt                                         0\n",
      "total_pymnt_inv                                     0\n",
      "total_rec_prncp                                     0\n",
      "total_rec_int                                       0\n",
      "total_rec_late_fee                                  0\n",
      "recoveries                                          0\n",
      "collection_recovery_fee                             0\n",
      "last_pymnt_amnt                                     0\n",
      "policy_code                                         0\n",
      "issue_year                                          0\n",
      "loan_amnt                                           0\n",
      "Length: 108, dtype: int64\n"
     ]
    }
   ],
   "source": [
    "temp_object = df.isna().sum().sort_values(ascending = False)\n",
    "print(temp_object)"
   ]
  },
  {
   "cell_type": "code",
   "execution_count": 28,
   "metadata": {},
   "outputs": [
    {
     "name": "stdout",
     "output_type": "stream",
     "text": [
      "<class 'pandas.core.series.Series'>\n",
      "orig_projected_additional_accrued_interest    2252242\n",
      "hardship_amount                               2250055\n",
      "hardship_last_payment_amount                  2250055\n",
      "hardship_payoff_balance_amount                2250055\n",
      "hardship_dpd                                  2250055\n",
      "hardship_length                               2250055\n",
      "deferral_term                                 2250055\n",
      "settlement_term                               2227612\n",
      "settlement_percentage                         2227612\n",
      "settlement_amount                             2227612\n",
      "sec_app_mths_since_last_major_derog           2224726\n",
      "sec_app_revol_util                            2154484\n",
      "revol_bal_joint                               2152648\n",
      "sec_app_open_act_il                           2152647\n",
      "sec_app_open_acc                              2152647\n",
      "sec_app_collections_12_mths_ex_med            2152647\n",
      "sec_app_num_rev_accts                         2152647\n",
      "sec_app_chargeoff_within_12_mths              2152647\n",
      "sec_app_inq_last_6mths                        2152647\n",
      "sec_app_mort_acc                              2152647\n",
      "dti_joint                                     2139962\n",
      "annual_inc_joint                              2139958\n",
      "mths_since_last_record                        1901512\n",
      "mths_since_recent_bc_dlq                      1740967\n",
      "mths_since_last_major_derog                   1679893\n",
      "mths_since_recent_revol_delinq                1520309\n",
      "mths_since_last_delinq                        1158502\n",
      "il_util                                       1068850\n",
      "dtype: int64\n"
     ]
    }
   ],
   "source": [
    "print(type(temp_object))\n",
    "print(temp_object[:28])"
   ]
  },
  {
   "cell_type": "markdown",
   "metadata": {},
   "source": [
    "#placeholder_df = placeholder_df.drop(temp_object[:28], axis = 1)\n",
    "This was a failed way to drop a bunch of columns filled with null values\n",
    "The way to do it involves converting it to a list with list() then index the list when passing it into .drop() with axis = 1"
   ]
  },
  {
   "cell_type": "code",
   "execution_count": 29,
   "metadata": {},
   "outputs": [
    {
     "name": "stdout",
     "output_type": "stream",
     "text": [
      "<class 'pandas.core.frame.DataFrame'>\n",
      "RangeIndex: 2260668 entries, 0 to 2260667\n",
      "Columns: 108 entries, loan_amnt to good_loan\n",
      "dtypes: float64(102), int64(6)\n",
      "memory usage: 1.8 GB\n"
     ]
    }
   ],
   "source": [
    "placeholder_df.info()"
   ]
  },
  {
   "cell_type": "code",
   "execution_count": 30,
   "metadata": {},
   "outputs": [],
   "source": [
    "temp_list = temp_object.index"
   ]
  },
  {
   "cell_type": "code",
   "execution_count": 31,
   "metadata": {},
   "outputs": [
    {
     "data": {
      "text/plain": [
       "['orig_projected_additional_accrued_interest',\n",
       " 'hardship_amount',\n",
       " 'hardship_last_payment_amount',\n",
       " 'hardship_payoff_balance_amount',\n",
       " 'hardship_dpd',\n",
       " 'hardship_length',\n",
       " 'deferral_term',\n",
       " 'settlement_term',\n",
       " 'settlement_percentage',\n",
       " 'settlement_amount',\n",
       " 'sec_app_mths_since_last_major_derog',\n",
       " 'sec_app_revol_util',\n",
       " 'revol_bal_joint',\n",
       " 'sec_app_open_act_il',\n",
       " 'sec_app_open_acc',\n",
       " 'sec_app_collections_12_mths_ex_med',\n",
       " 'sec_app_num_rev_accts',\n",
       " 'sec_app_chargeoff_within_12_mths',\n",
       " 'sec_app_inq_last_6mths',\n",
       " 'sec_app_mort_acc',\n",
       " 'dti_joint',\n",
       " 'annual_inc_joint',\n",
       " 'mths_since_last_record',\n",
       " 'mths_since_recent_bc_dlq',\n",
       " 'mths_since_last_major_derog',\n",
       " 'mths_since_recent_revol_delinq',\n",
       " 'mths_since_last_delinq',\n",
       " 'il_util',\n",
       " 'mths_since_rcnt_il',\n",
       " 'all_util',\n",
       " 'open_acc_6m',\n",
       " 'inq_last_12m',\n",
       " 'total_cu_tl',\n",
       " 'open_il_24m',\n",
       " 'max_bal_bc',\n",
       " 'open_act_il',\n",
       " 'open_il_12m',\n",
       " 'inq_fi',\n",
       " 'open_rv_24m',\n",
       " 'open_rv_12m',\n",
       " 'total_bal_il',\n",
       " 'mths_since_recent_inq',\n",
       " 'num_tl_120dpd_2m',\n",
       " 'mo_sin_old_il_acct',\n",
       " 'bc_util',\n",
       " 'percent_bc_gt_75',\n",
       " 'bc_open_to_buy',\n",
       " 'mths_since_recent_bc',\n",
       " 'pct_tl_nvr_dlq',\n",
       " 'avg_cur_bal',\n",
       " 'num_rev_accts',\n",
       " 'mo_sin_rcnt_rev_tl_op',\n",
       " 'mo_sin_old_rev_tl_op',\n",
       " 'total_rev_hi_lim',\n",
       " 'num_op_rev_tl',\n",
       " 'mo_sin_rcnt_tl',\n",
       " 'num_il_tl',\n",
       " 'total_il_high_credit_limit',\n",
       " 'tot_hi_cred_lim',\n",
       " 'num_tl_op_past_12m',\n",
       " 'num_tl_90g_dpd_24m',\n",
       " 'num_tl_30dpd',\n",
       " 'tot_coll_amt',\n",
       " 'num_rev_tl_bal_gt_0',\n",
       " 'num_bc_tl',\n",
       " 'num_actv_rev_tl',\n",
       " 'num_actv_bc_tl',\n",
       " 'num_accts_ever_120_pd',\n",
       " 'tot_cur_bal',\n",
       " 'num_sats',\n",
       " 'num_bc_sats',\n",
       " 'mort_acc',\n",
       " 'acc_open_past_24mths',\n",
       " 'total_bal_ex_mort',\n",
       " 'total_bc_limit',\n",
       " 'revol_util',\n",
       " 'dti',\n",
       " 'pub_rec_bankruptcies',\n",
       " 'collections_12_mths_ex_med',\n",
       " 'chargeoff_within_12_mths',\n",
       " 'tax_liens',\n",
       " 'inq_last_6mths',\n",
       " 'delinq_2yrs',\n",
       " 'delinq_amnt',\n",
       " 'open_acc',\n",
       " 'pub_rec',\n",
       " 'total_acc',\n",
       " 'acc_now_delinq',\n",
       " 'annual_inc',\n",
       " 'revol_bal',\n",
       " 'funded_amnt_inv',\n",
       " 'int_rate',\n",
       " 'installment',\n",
       " 'funded_amnt',\n",
       " 'good_loan',\n",
       " 'out_prncp',\n",
       " 'out_prncp_inv',\n",
       " 'total_pymnt',\n",
       " 'total_pymnt_inv',\n",
       " 'total_rec_prncp',\n",
       " 'total_rec_int',\n",
       " 'total_rec_late_fee',\n",
       " 'recoveries',\n",
       " 'collection_recovery_fee',\n",
       " 'last_pymnt_amnt',\n",
       " 'policy_code',\n",
       " 'issue_year',\n",
       " 'loan_amnt']"
      ]
     },
     "execution_count": 31,
     "metadata": {},
     "output_type": "execute_result"
    }
   ],
   "source": [
    "list(temp_list)"
   ]
  },
  {
   "cell_type": "code",
   "execution_count": 32,
   "metadata": {},
   "outputs": [],
   "source": [
    "placeholder_df = placeholder_df.drop(temp_list[:28], axis = 1)"
   ]
  },
  {
   "cell_type": "code",
   "execution_count": 33,
   "metadata": {},
   "outputs": [
    {
     "name": "stdout",
     "output_type": "stream",
     "text": [
      "<class 'pandas.core.frame.DataFrame'>\n",
      "RangeIndex: 2260668 entries, 0 to 2260667\n",
      "Data columns (total 80 columns):\n",
      "loan_amnt                     int64\n",
      "funded_amnt                   int64\n",
      "funded_amnt_inv               float64\n",
      "int_rate                      float64\n",
      "installment                   float64\n",
      "annual_inc                    float64\n",
      "dti                           float64\n",
      "delinq_2yrs                   float64\n",
      "inq_last_6mths                float64\n",
      "open_acc                      float64\n",
      "pub_rec                       float64\n",
      "revol_bal                     int64\n",
      "revol_util                    float64\n",
      "total_acc                     float64\n",
      "out_prncp                     float64\n",
      "out_prncp_inv                 float64\n",
      "total_pymnt                   float64\n",
      "total_pymnt_inv               float64\n",
      "total_rec_prncp               float64\n",
      "total_rec_int                 float64\n",
      "total_rec_late_fee            float64\n",
      "recoveries                    float64\n",
      "collection_recovery_fee       float64\n",
      "last_pymnt_amnt               float64\n",
      "collections_12_mths_ex_med    float64\n",
      "policy_code                   int64\n",
      "acc_now_delinq                float64\n",
      "tot_coll_amt                  float64\n",
      "tot_cur_bal                   float64\n",
      "open_acc_6m                   float64\n",
      "open_act_il                   float64\n",
      "open_il_12m                   float64\n",
      "open_il_24m                   float64\n",
      "mths_since_rcnt_il            float64\n",
      "total_bal_il                  float64\n",
      "open_rv_12m                   float64\n",
      "open_rv_24m                   float64\n",
      "max_bal_bc                    float64\n",
      "all_util                      float64\n",
      "total_rev_hi_lim              float64\n",
      "inq_fi                        float64\n",
      "total_cu_tl                   float64\n",
      "inq_last_12m                  float64\n",
      "acc_open_past_24mths          float64\n",
      "avg_cur_bal                   float64\n",
      "bc_open_to_buy                float64\n",
      "bc_util                       float64\n",
      "chargeoff_within_12_mths      float64\n",
      "delinq_amnt                   float64\n",
      "mo_sin_old_il_acct            float64\n",
      "mo_sin_old_rev_tl_op          float64\n",
      "mo_sin_rcnt_rev_tl_op         float64\n",
      "mo_sin_rcnt_tl                float64\n",
      "mort_acc                      float64\n",
      "mths_since_recent_bc          float64\n",
      "mths_since_recent_inq         float64\n",
      "num_accts_ever_120_pd         float64\n",
      "num_actv_bc_tl                float64\n",
      "num_actv_rev_tl               float64\n",
      "num_bc_sats                   float64\n",
      "num_bc_tl                     float64\n",
      "num_il_tl                     float64\n",
      "num_op_rev_tl                 float64\n",
      "num_rev_accts                 float64\n",
      "num_rev_tl_bal_gt_0           float64\n",
      "num_sats                      float64\n",
      "num_tl_120dpd_2m              float64\n",
      "num_tl_30dpd                  float64\n",
      "num_tl_90g_dpd_24m            float64\n",
      "num_tl_op_past_12m            float64\n",
      "pct_tl_nvr_dlq                float64\n",
      "percent_bc_gt_75              float64\n",
      "pub_rec_bankruptcies          float64\n",
      "tax_liens                     float64\n",
      "tot_hi_cred_lim               float64\n",
      "total_bal_ex_mort             float64\n",
      "total_bc_limit                float64\n",
      "total_il_high_credit_limit    float64\n",
      "issue_year                    int64\n",
      "good_loan                     int64\n",
      "dtypes: float64(74), int64(6)\n",
      "memory usage: 1.3 GB\n"
     ]
    }
   ],
   "source": [
    "placeholder_df.info()"
   ]
  },
  {
   "cell_type": "code",
   "execution_count": 34,
   "metadata": {},
   "outputs": [
    {
     "data": {
      "text/plain": [
       "mths_since_rcnt_il            909924\n",
       "all_util                      866348\n",
       "open_acc_6m                   866130\n",
       "inq_last_12m                  866130\n",
       "total_cu_tl                   866130\n",
       "open_act_il                   866129\n",
       "open_il_12m                   866129\n",
       "open_il_24m                   866129\n",
       "total_bal_il                  866129\n",
       "open_rv_12m                   866129\n",
       "inq_fi                        866129\n",
       "open_rv_24m                   866129\n",
       "max_bal_bc                    866129\n",
       "mths_since_recent_inq         295435\n",
       "num_tl_120dpd_2m              153657\n",
       "mo_sin_old_il_acct            139071\n",
       "bc_util                        76071\n",
       "percent_bc_gt_75               75379\n",
       "bc_open_to_buy                 74935\n",
       "mths_since_recent_bc           73412\n",
       "pct_tl_nvr_dlq                 70431\n",
       "avg_cur_bal                    70346\n",
       "num_rev_accts                  70277\n",
       "mo_sin_rcnt_rev_tl_op          70277\n",
       "mo_sin_old_rev_tl_op           70277\n",
       "tot_cur_bal                    70276\n",
       "tot_coll_amt                   70276\n",
       "total_rev_hi_lim               70276\n",
       "mo_sin_rcnt_tl                 70276\n",
       "num_bc_tl                      70276\n",
       "                               ...  \n",
       "collections_12_mths_ex_med       145\n",
       "chargeoff_within_12_mths         145\n",
       "tax_liens                        105\n",
       "inq_last_6mths                    30\n",
       "acc_now_delinq                    29\n",
       "delinq_amnt                       29\n",
       "total_acc                         29\n",
       "delinq_2yrs                       29\n",
       "open_acc                          29\n",
       "pub_rec                           29\n",
       "annual_inc                         4\n",
       "funded_amnt_inv                    0\n",
       "int_rate                           0\n",
       "funded_amnt                        0\n",
       "revol_bal                          0\n",
       "installment                        0\n",
       "good_loan                          0\n",
       "out_prncp                          0\n",
       "out_prncp_inv                      0\n",
       "total_pymnt                        0\n",
       "total_pymnt_inv                    0\n",
       "total_rec_prncp                    0\n",
       "total_rec_int                      0\n",
       "total_rec_late_fee                 0\n",
       "recoveries                         0\n",
       "collection_recovery_fee            0\n",
       "last_pymnt_amnt                    0\n",
       "policy_code                        0\n",
       "issue_year                         0\n",
       "loan_amnt                          0\n",
       "Length: 80, dtype: int64"
      ]
     },
     "execution_count": 34,
     "metadata": {},
     "output_type": "execute_result"
    }
   ],
   "source": [
    "placeholder_df.isna().sum().sort_values(ascending = False)"
   ]
  },
  {
   "cell_type": "code",
   "execution_count": 35,
   "metadata": {},
   "outputs": [
    {
     "name": "stdout",
     "output_type": "stream",
     "text": [
      "<class 'pandas.core.frame.DataFrame'>\n",
      "Int64Index: 1131363 entries, 0 to 2260666\n",
      "Data columns (total 80 columns):\n",
      "loan_amnt                     1131363 non-null int64\n",
      "funded_amnt                   1131363 non-null int64\n",
      "funded_amnt_inv               1131363 non-null float64\n",
      "int_rate                      1131363 non-null float64\n",
      "installment                   1131363 non-null float64\n",
      "annual_inc                    1131363 non-null float64\n",
      "dti                           1131363 non-null float64\n",
      "delinq_2yrs                   1131363 non-null float64\n",
      "inq_last_6mths                1131363 non-null float64\n",
      "open_acc                      1131363 non-null float64\n",
      "pub_rec                       1131363 non-null float64\n",
      "revol_bal                     1131363 non-null int64\n",
      "revol_util                    1131363 non-null float64\n",
      "total_acc                     1131363 non-null float64\n",
      "out_prncp                     1131363 non-null float64\n",
      "out_prncp_inv                 1131363 non-null float64\n",
      "total_pymnt                   1131363 non-null float64\n",
      "total_pymnt_inv               1131363 non-null float64\n",
      "total_rec_prncp               1131363 non-null float64\n",
      "total_rec_int                 1131363 non-null float64\n",
      "total_rec_late_fee            1131363 non-null float64\n",
      "recoveries                    1131363 non-null float64\n",
      "collection_recovery_fee       1131363 non-null float64\n",
      "last_pymnt_amnt               1131363 non-null float64\n",
      "collections_12_mths_ex_med    1131363 non-null float64\n",
      "policy_code                   1131363 non-null int64\n",
      "acc_now_delinq                1131363 non-null float64\n",
      "tot_coll_amt                  1131363 non-null float64\n",
      "tot_cur_bal                   1131363 non-null float64\n",
      "open_acc_6m                   1131363 non-null float64\n",
      "open_act_il                   1131363 non-null float64\n",
      "open_il_12m                   1131363 non-null float64\n",
      "open_il_24m                   1131363 non-null float64\n",
      "mths_since_rcnt_il            1131363 non-null float64\n",
      "total_bal_il                  1131363 non-null float64\n",
      "open_rv_12m                   1131363 non-null float64\n",
      "open_rv_24m                   1131363 non-null float64\n",
      "max_bal_bc                    1131363 non-null float64\n",
      "all_util                      1131363 non-null float64\n",
      "total_rev_hi_lim              1131363 non-null float64\n",
      "inq_fi                        1131363 non-null float64\n",
      "total_cu_tl                   1131363 non-null float64\n",
      "inq_last_12m                  1131363 non-null float64\n",
      "acc_open_past_24mths          1131363 non-null float64\n",
      "avg_cur_bal                   1131363 non-null float64\n",
      "bc_open_to_buy                1131363 non-null float64\n",
      "bc_util                       1131363 non-null float64\n",
      "chargeoff_within_12_mths      1131363 non-null float64\n",
      "delinq_amnt                   1131363 non-null float64\n",
      "mo_sin_old_il_acct            1131363 non-null float64\n",
      "mo_sin_old_rev_tl_op          1131363 non-null float64\n",
      "mo_sin_rcnt_rev_tl_op         1131363 non-null float64\n",
      "mo_sin_rcnt_tl                1131363 non-null float64\n",
      "mort_acc                      1131363 non-null float64\n",
      "mths_since_recent_bc          1131363 non-null float64\n",
      "mths_since_recent_inq         1131363 non-null float64\n",
      "num_accts_ever_120_pd         1131363 non-null float64\n",
      "num_actv_bc_tl                1131363 non-null float64\n",
      "num_actv_rev_tl               1131363 non-null float64\n",
      "num_bc_sats                   1131363 non-null float64\n",
      "num_bc_tl                     1131363 non-null float64\n",
      "num_il_tl                     1131363 non-null float64\n",
      "num_op_rev_tl                 1131363 non-null float64\n",
      "num_rev_accts                 1131363 non-null float64\n",
      "num_rev_tl_bal_gt_0           1131363 non-null float64\n",
      "num_sats                      1131363 non-null float64\n",
      "num_tl_120dpd_2m              1131363 non-null float64\n",
      "num_tl_30dpd                  1131363 non-null float64\n",
      "num_tl_90g_dpd_24m            1131363 non-null float64\n",
      "num_tl_op_past_12m            1131363 non-null float64\n",
      "pct_tl_nvr_dlq                1131363 non-null float64\n",
      "percent_bc_gt_75              1131363 non-null float64\n",
      "pub_rec_bankruptcies          1131363 non-null float64\n",
      "tax_liens                     1131363 non-null float64\n",
      "tot_hi_cred_lim               1131363 non-null float64\n",
      "total_bal_ex_mort             1131363 non-null float64\n",
      "total_bc_limit                1131363 non-null float64\n",
      "total_il_high_credit_limit    1131363 non-null float64\n",
      "issue_year                    1131363 non-null int64\n",
      "good_loan                     1131363 non-null int64\n",
      "dtypes: float64(74), int64(6)\n",
      "memory usage: 699.2 MB\n"
     ]
    }
   ],
   "source": [
    "placeholder_df = placeholder_df.dropna()\n",
    "placeholder_df.info()"
   ]
  },
  {
   "cell_type": "code",
   "execution_count": 36,
   "metadata": {},
   "outputs": [],
   "source": [
    "X = placeholder_df.drop(['good_loan'], axis = 1)\n",
    "y = placeholder_df['good_loan']"
   ]
  },
  {
   "cell_type": "code",
   "execution_count": 37,
   "metadata": {},
   "outputs": [
    {
     "data": {
      "text/plain": [
       "(1131363, 80)"
      ]
     },
     "execution_count": 37,
     "metadata": {},
     "output_type": "execute_result"
    }
   ],
   "source": [
    "placeholder_df.shape"
   ]
  },
  {
   "cell_type": "code",
   "execution_count": 38,
   "metadata": {},
   "outputs": [
    {
     "data": {
      "text/plain": [
       "RandomForestClassifier(bootstrap=True, class_weight=None, criterion='gini',\n",
       "                       max_depth=None, max_features='auto', max_leaf_nodes=None,\n",
       "                       min_impurity_decrease=0.0, min_impurity_split=None,\n",
       "                       min_samples_leaf=1, min_samples_split=2,\n",
       "                       min_weight_fraction_leaf=0.0, n_estimators=100,\n",
       "                       n_jobs=None, oob_score=False, random_state=None,\n",
       "                       verbose=0, warm_start=False)"
      ]
     },
     "execution_count": 38,
     "metadata": {},
     "output_type": "execute_result"
    }
   ],
   "source": [
    "X_train, X_test, y_train, y_test = train_test_split(X, y, test_size = .2 )\n",
    "rfc = RandomForestClassifier(n_estimators = 100)\n",
    "\n",
    "rfc.fit(X_train, y_train)"
   ]
  },
  {
   "cell_type": "code",
   "execution_count": null,
   "metadata": {},
   "outputs": [],
   "source": []
  },
  {
   "cell_type": "code",
   "execution_count": 39,
   "metadata": {},
   "outputs": [],
   "source": [
    "y_pred = rfc.predict(X_test)"
   ]
  },
  {
   "cell_type": "code",
   "execution_count": 40,
   "metadata": {},
   "outputs": [
    {
     "name": "stdout",
     "output_type": "stream",
     "text": [
      "Accuracy: 0.9825608888378198\n"
     ]
    }
   ],
   "source": [
    "from sklearn import metrics\n",
    "\n",
    "print(\"Accuracy:\", metrics.accuracy_score(y_test, y_pred))"
   ]
  },
  {
   "cell_type": "markdown",
   "metadata": {},
   "source": [
    "## Random Forest Result\n",
    "Accuracy 98% so that's good, need to explore this further "
   ]
  },
  {
   "cell_type": "code",
   "execution_count": 41,
   "metadata": {},
   "outputs": [
    {
     "name": "stdout",
     "output_type": "stream",
     "text": [
      "<class 'pandas.core.frame.DataFrame'>\n",
      "RangeIndex: 2260668 entries, 0 to 2260667\n",
      "Columns: 108 entries, loan_amnt to good_loan\n",
      "dtypes: float64(102), int64(6)\n",
      "memory usage: 1.8 GB\n"
     ]
    }
   ],
   "source": [
    "df.info()"
   ]
  },
  {
   "cell_type": "code",
   "execution_count": 42,
   "metadata": {},
   "outputs": [
    {
     "name": "stdout",
     "output_type": "stream",
     "text": [
      "[[ 18709   3936]\n",
      " [    10 203618]]\n",
      "203618\n",
      "226273\n",
      "203628\n"
     ]
    }
   ],
   "source": [
    "from sklearn.metrics import confusion_matrix\n",
    "conf_matrix = confusion_matrix(y_test, y_pred)\n",
    "print(conf_matrix)\n",
    "print(conf_matrix[1][1])\n",
    "print(conf_matrix.sum())\n",
    "print(conf_matrix[1].sum())"
   ]
  },
  {
   "cell_type": "code",
   "execution_count": 43,
   "metadata": {},
   "outputs": [
    {
     "name": "stdout",
     "output_type": "stream",
     "text": [
      "Misclassification Rate: 1.7439111162180196%\n",
      "True positive rate: 99.99508908401596%\n",
      "False positive rate: 17.381320379774785%\n",
      "True negative rate: 82.61867962022521%\n"
     ]
    }
   ],
   "source": [
    "print(\"Misclassification Rate: \" + \n",
    "      str(((conf_matrix[0][1] + conf_matrix[1][0]) / conf_matrix.sum())*100 ) +'%')\n",
    "print(\"True positive rate: \" + \n",
    "      str((conf_matrix[1][1] / (conf_matrix[1].sum()))*100 ) +'%')\n",
    "print(\"False positive rate: \" +\n",
    "     str((conf_matrix[0][1] / (conf_matrix[0].sum()))*100 ) +'%')\n",
    "print(\"True negative rate: \"+\n",
    "     str((conf_matrix[0][0] / (conf_matrix[0].sum()))*100 ) +'%')"
   ]
  },
  {
   "cell_type": "markdown",
   "metadata": {},
   "source": [
    "# Confusion Matrix Results\n",
    "Looks good overall, 98% accuracy. But the 17.4% false positive rate could hopefully be improved by increasing punishments for false positives. \n",
    "\n",
    "\n",
    "### Confusion Matrix:\n",
    " [ 18712  ,   3963] <br>\n",
    " [  17   ,  203581]\n"
   ]
  },
  {
   "cell_type": "code",
   "execution_count": 44,
   "metadata": {},
   "outputs": [
    {
     "name": "stdout",
     "output_type": "stream",
     "text": [
      "Counter({1: 207554, 0: 18719})\n"
     ]
    }
   ],
   "source": [
    "print(Counter(y_pred))\n",
    "#Sanity check that the predicted yes and actual yes are both the good loans\n"
   ]
  },
  {
   "cell_type": "markdown",
   "metadata": {},
   "source": [
    "# Mentor Question\n",
    "\n",
    "So I have this model that is accurate but how can I use that model to make predictions for all of the rows in the original dataframe?  Will I have to remove every column that has a null value?  I have no idea "
   ]
  },
  {
   "cell_type": "code",
   "execution_count": 45,
   "metadata": {},
   "outputs": [],
   "source": [
    "df.loc[~df['sec_app_revol_util'].isnull(), 'good_loan'].mean()\n",
    "example_list = ['sec_app_revol_util']"
   ]
  },
  {
   "cell_type": "code",
   "execution_count": 46,
   "metadata": {
    "scrolled": true
   },
   "outputs": [
    {
     "name": "stdout",
     "output_type": "stream",
     "text": [
      "sec_app_revol_util\n",
      "0.8691890958577553\n",
      "0.9411304904693739\n",
      "\n"
     ]
    }
   ],
   "source": [
    "#Finding if the target variable is significantly different for when certain\n",
    "#columns are null or not. \n",
    "for feature in example_list:\n",
    "    print(feature)\n",
    "    print(df.loc[df[feature].isnull(), 'good_loan'].mean())\n",
    "    print(df.loc[~df[feature].isnull(), 'good_loan'].mean())\n",
    "    print()"
   ]
  },
  {
   "cell_type": "markdown",
   "metadata": {},
   "source": [
    "Make a list of different columns to place into the above for loop and then put that in, not all columns. \n",
    "\n",
    "I can take the two above loc statements and place them both into a t test to see if the difference is significant "
   ]
  },
  {
   "cell_type": "code",
   "execution_count": 47,
   "metadata": {},
   "outputs": [
    {
     "name": "stdout",
     "output_type": "stream",
     "text": [
      "-94.9105805546064\n",
      "0.0\n"
     ]
    }
   ],
   "source": [
    "#Trying t-tests\n",
    "import scipy.stats as stats\n",
    "t_stat, p_val = stats.ttest_ind(df.loc[df[feature].isnull(), 'good_loan'],df.loc[~df[feature].isnull(),'good_loan'],equal_var = False)\n",
    "print(t_stat)\n",
    "print(p_val)"
   ]
  },
  {
   "cell_type": "code",
   "execution_count": 48,
   "metadata": {},
   "outputs": [
    {
     "name": "stdout",
     "output_type": "stream",
     "text": [
      "<class 'pandas.core.frame.DataFrame'>\n",
      "RangeIndex: 2260668 entries, 0 to 2260667\n",
      "Columns: 108 entries, loan_amnt to good_loan\n",
      "dtypes: float64(102), int64(6)\n",
      "memory usage: 1.8 GB\n"
     ]
    }
   ],
   "source": [
    "placeholder_df2 = df\n",
    "placeholder_df2.info()"
   ]
  },
  {
   "cell_type": "code",
   "execution_count": 49,
   "metadata": {},
   "outputs": [],
   "source": [
    "placeholder_df2 = placeholder_df2.drop(temp_list[:42], axis = 1)\n"
   ]
  },
  {
   "cell_type": "code",
   "execution_count": 50,
   "metadata": {},
   "outputs": [
    {
     "name": "stdout",
     "output_type": "stream",
     "text": [
      "<class 'pandas.core.frame.DataFrame'>\n",
      "RangeIndex: 2260668 entries, 0 to 2260667\n",
      "Data columns (total 66 columns):\n",
      "loan_amnt                     int64\n",
      "funded_amnt                   int64\n",
      "funded_amnt_inv               float64\n",
      "int_rate                      float64\n",
      "installment                   float64\n",
      "annual_inc                    float64\n",
      "dti                           float64\n",
      "delinq_2yrs                   float64\n",
      "inq_last_6mths                float64\n",
      "open_acc                      float64\n",
      "pub_rec                       float64\n",
      "revol_bal                     int64\n",
      "revol_util                    float64\n",
      "total_acc                     float64\n",
      "out_prncp                     float64\n",
      "out_prncp_inv                 float64\n",
      "total_pymnt                   float64\n",
      "total_pymnt_inv               float64\n",
      "total_rec_prncp               float64\n",
      "total_rec_int                 float64\n",
      "total_rec_late_fee            float64\n",
      "recoveries                    float64\n",
      "collection_recovery_fee       float64\n",
      "last_pymnt_amnt               float64\n",
      "collections_12_mths_ex_med    float64\n",
      "policy_code                   int64\n",
      "acc_now_delinq                float64\n",
      "tot_coll_amt                  float64\n",
      "tot_cur_bal                   float64\n",
      "total_rev_hi_lim              float64\n",
      "acc_open_past_24mths          float64\n",
      "avg_cur_bal                   float64\n",
      "bc_open_to_buy                float64\n",
      "bc_util                       float64\n",
      "chargeoff_within_12_mths      float64\n",
      "delinq_amnt                   float64\n",
      "mo_sin_old_il_acct            float64\n",
      "mo_sin_old_rev_tl_op          float64\n",
      "mo_sin_rcnt_rev_tl_op         float64\n",
      "mo_sin_rcnt_tl                float64\n",
      "mort_acc                      float64\n",
      "mths_since_recent_bc          float64\n",
      "num_accts_ever_120_pd         float64\n",
      "num_actv_bc_tl                float64\n",
      "num_actv_rev_tl               float64\n",
      "num_bc_sats                   float64\n",
      "num_bc_tl                     float64\n",
      "num_il_tl                     float64\n",
      "num_op_rev_tl                 float64\n",
      "num_rev_accts                 float64\n",
      "num_rev_tl_bal_gt_0           float64\n",
      "num_sats                      float64\n",
      "num_tl_120dpd_2m              float64\n",
      "num_tl_30dpd                  float64\n",
      "num_tl_90g_dpd_24m            float64\n",
      "num_tl_op_past_12m            float64\n",
      "pct_tl_nvr_dlq                float64\n",
      "percent_bc_gt_75              float64\n",
      "pub_rec_bankruptcies          float64\n",
      "tax_liens                     float64\n",
      "tot_hi_cred_lim               float64\n",
      "total_bal_ex_mort             float64\n",
      "total_bc_limit                float64\n",
      "total_il_high_credit_limit    float64\n",
      "issue_year                    int64\n",
      "good_loan                     int64\n",
      "dtypes: float64(60), int64(6)\n",
      "memory usage: 1.1 GB\n"
     ]
    }
   ],
   "source": [
    "placeholder_df2.info()"
   ]
  },
  {
   "cell_type": "code",
   "execution_count": 51,
   "metadata": {},
   "outputs": [
    {
     "data": {
      "text/plain": [
       "num_tl_120dpd_2m              153657\n",
       "mo_sin_old_il_acct            139071\n",
       "bc_util                        76071\n",
       "percent_bc_gt_75               75379\n",
       "bc_open_to_buy                 74935\n",
       "mths_since_recent_bc           73412\n",
       "pct_tl_nvr_dlq                 70431\n",
       "avg_cur_bal                    70346\n",
       "mo_sin_old_rev_tl_op           70277\n",
       "mo_sin_rcnt_rev_tl_op          70277\n",
       "num_rev_accts                  70277\n",
       "total_rev_hi_lim               70276\n",
       "num_bc_tl                      70276\n",
       "tot_cur_bal                    70276\n",
       "tot_coll_amt                   70276\n",
       "num_accts_ever_120_pd          70276\n",
       "num_actv_bc_tl                 70276\n",
       "num_actv_rev_tl                70276\n",
       "mo_sin_rcnt_tl                 70276\n",
       "num_il_tl                      70276\n",
       "tot_hi_cred_lim                70276\n",
       "num_op_rev_tl                  70276\n",
       "num_rev_tl_bal_gt_0            70276\n",
       "num_tl_30dpd                   70276\n",
       "total_il_high_credit_limit     70276\n",
       "num_tl_90g_dpd_24m             70276\n",
       "num_tl_op_past_12m             70276\n",
       "num_sats                       58590\n",
       "num_bc_sats                    58590\n",
       "total_bc_limit                 50030\n",
       "                               ...  \n",
       "chargeoff_within_12_mths         145\n",
       "collections_12_mths_ex_med       145\n",
       "tax_liens                        105\n",
       "inq_last_6mths                    30\n",
       "acc_now_delinq                    29\n",
       "total_acc                         29\n",
       "delinq_amnt                       29\n",
       "delinq_2yrs                       29\n",
       "open_acc                          29\n",
       "pub_rec                           29\n",
       "annual_inc                         4\n",
       "funded_amnt_inv                    0\n",
       "funded_amnt                        0\n",
       "installment                        0\n",
       "revol_bal                          0\n",
       "int_rate                           0\n",
       "good_loan                          0\n",
       "out_prncp                          0\n",
       "out_prncp_inv                      0\n",
       "total_pymnt                        0\n",
       "total_pymnt_inv                    0\n",
       "total_rec_prncp                    0\n",
       "total_rec_int                      0\n",
       "total_rec_late_fee                 0\n",
       "recoveries                         0\n",
       "collection_recovery_fee            0\n",
       "last_pymnt_amnt                    0\n",
       "policy_code                        0\n",
       "issue_year                         0\n",
       "loan_amnt                          0\n",
       "Length: 66, dtype: int64"
      ]
     },
     "execution_count": 51,
     "metadata": {},
     "output_type": "execute_result"
    }
   ],
   "source": [
    "placeholder_df2.isnull().sum().sort_values(ascending = False)"
   ]
  },
  {
   "cell_type": "code",
   "execution_count": 52,
   "metadata": {},
   "outputs": [
    {
     "name": "stdout",
     "output_type": "stream",
     "text": [
      "<class 'pandas.core.frame.DataFrame'>\n",
      "Int64Index: 2013799 entries, 0 to 2260666\n",
      "Data columns (total 66 columns):\n",
      "loan_amnt                     int64\n",
      "funded_amnt                   int64\n",
      "funded_amnt_inv               float64\n",
      "int_rate                      float64\n",
      "installment                   float64\n",
      "annual_inc                    float64\n",
      "dti                           float64\n",
      "delinq_2yrs                   float64\n",
      "inq_last_6mths                float64\n",
      "open_acc                      float64\n",
      "pub_rec                       float64\n",
      "revol_bal                     int64\n",
      "revol_util                    float64\n",
      "total_acc                     float64\n",
      "out_prncp                     float64\n",
      "out_prncp_inv                 float64\n",
      "total_pymnt                   float64\n",
      "total_pymnt_inv               float64\n",
      "total_rec_prncp               float64\n",
      "total_rec_int                 float64\n",
      "total_rec_late_fee            float64\n",
      "recoveries                    float64\n",
      "collection_recovery_fee       float64\n",
      "last_pymnt_amnt               float64\n",
      "collections_12_mths_ex_med    float64\n",
      "policy_code                   int64\n",
      "acc_now_delinq                float64\n",
      "tot_coll_amt                  float64\n",
      "tot_cur_bal                   float64\n",
      "total_rev_hi_lim              float64\n",
      "acc_open_past_24mths          float64\n",
      "avg_cur_bal                   float64\n",
      "bc_open_to_buy                float64\n",
      "bc_util                       float64\n",
      "chargeoff_within_12_mths      float64\n",
      "delinq_amnt                   float64\n",
      "mo_sin_old_il_acct            float64\n",
      "mo_sin_old_rev_tl_op          float64\n",
      "mo_sin_rcnt_rev_tl_op         float64\n",
      "mo_sin_rcnt_tl                float64\n",
      "mort_acc                      float64\n",
      "mths_since_recent_bc          float64\n",
      "num_accts_ever_120_pd         float64\n",
      "num_actv_bc_tl                float64\n",
      "num_actv_rev_tl               float64\n",
      "num_bc_sats                   float64\n",
      "num_bc_tl                     float64\n",
      "num_il_tl                     float64\n",
      "num_op_rev_tl                 float64\n",
      "num_rev_accts                 float64\n",
      "num_rev_tl_bal_gt_0           float64\n",
      "num_sats                      float64\n",
      "num_tl_120dpd_2m              float64\n",
      "num_tl_30dpd                  float64\n",
      "num_tl_90g_dpd_24m            float64\n",
      "num_tl_op_past_12m            float64\n",
      "pct_tl_nvr_dlq                float64\n",
      "percent_bc_gt_75              float64\n",
      "pub_rec_bankruptcies          float64\n",
      "tax_liens                     float64\n",
      "tot_hi_cred_lim               float64\n",
      "total_bal_ex_mort             float64\n",
      "total_bc_limit                float64\n",
      "total_il_high_credit_limit    float64\n",
      "issue_year                    int64\n",
      "good_loan                     int64\n",
      "dtypes: float64(60), int64(6)\n",
      "memory usage: 1.0 GB\n"
     ]
    }
   ],
   "source": [
    "placeholder_df3 = placeholder_df2.dropna()\n",
    "placeholder_df3.info()\n",
    "#Now going to try with a resample and random forest model"
   ]
  },
  {
   "cell_type": "code",
   "execution_count": 53,
   "metadata": {},
   "outputs": [
    {
     "name": "stdout",
     "output_type": "stream",
     "text": [
      "(2013799, 65)\n"
     ]
    }
   ],
   "source": [
    "X = placeholder_df3.drop(['good_loan'], axis = 1)\n",
    "y = placeholder_df3['good_loan']\n",
    "print(X.shape)"
   ]
  },
  {
   "cell_type": "code",
   "execution_count": 54,
   "metadata": {},
   "outputs": [
    {
     "name": "stderr",
     "output_type": "stream",
     "text": [
      "F:\\Anaconda\\lib\\site-packages\\sklearn\\externals\\six.py:31: DeprecationWarning: The module is deprecated in version 0.21 and will be removed in version 0.23 since we've dropped support for Python 2.7. Please rely on the official version of six (https://pypi.org/project/six/).\n",
      "  \"(https://pypi.org/project/six/).\", DeprecationWarning)\n"
     ]
    },
    {
     "ename": "KeyboardInterrupt",
     "evalue": "",
     "output_type": "error",
     "traceback": [
      "\u001b[1;31m---------------------------------------------------------------------------\u001b[0m",
      "\u001b[1;31mKeyboardInterrupt\u001b[0m                         Traceback (most recent call last)",
      "\u001b[1;32m<ipython-input-54-b3c70b0263d0>\u001b[0m in \u001b[0;36m<module>\u001b[1;34m\u001b[0m\n\u001b[0;32m      3\u001b[0m \u001b[0msm\u001b[0m \u001b[1;33m=\u001b[0m \u001b[0mSMOTE\u001b[0m\u001b[1;33m(\u001b[0m\u001b[0mrandom_state\u001b[0m \u001b[1;33m=\u001b[0m \u001b[1;36m42\u001b[0m\u001b[1;33m)\u001b[0m\u001b[1;33m\u001b[0m\u001b[1;33m\u001b[0m\u001b[0m\n\u001b[0;32m      4\u001b[0m \u001b[1;33m\u001b[0m\u001b[0m\n\u001b[1;32m----> 5\u001b[1;33m \u001b[0mX_resample\u001b[0m\u001b[1;33m,\u001b[0m \u001b[0my_resample\u001b[0m \u001b[1;33m=\u001b[0m \u001b[0msm\u001b[0m\u001b[1;33m.\u001b[0m\u001b[0mfit_resample\u001b[0m\u001b[1;33m(\u001b[0m\u001b[0mX\u001b[0m\u001b[1;33m,\u001b[0m\u001b[0my\u001b[0m\u001b[1;33m)\u001b[0m\u001b[1;33m\u001b[0m\u001b[1;33m\u001b[0m\u001b[0m\n\u001b[0m\u001b[0;32m      6\u001b[0m \u001b[1;33m\u001b[0m\u001b[0m\n\u001b[0;32m      7\u001b[0m \u001b[0mprint\u001b[0m\u001b[1;33m(\u001b[0m\u001b[0mX_resample\u001b[0m\u001b[1;33m.\u001b[0m\u001b[0mshape\u001b[0m\u001b[1;33m)\u001b[0m\u001b[1;33m\u001b[0m\u001b[1;33m\u001b[0m\u001b[0m\n",
      "\u001b[1;32mF:\\Anaconda\\lib\\site-packages\\imblearn\\base.py\u001b[0m in \u001b[0;36mfit_resample\u001b[1;34m(self, X, y)\u001b[0m\n\u001b[0;32m     83\u001b[0m             self.sampling_strategy, y, self._sampling_type)\n\u001b[0;32m     84\u001b[0m \u001b[1;33m\u001b[0m\u001b[0m\n\u001b[1;32m---> 85\u001b[1;33m         \u001b[0moutput\u001b[0m \u001b[1;33m=\u001b[0m \u001b[0mself\u001b[0m\u001b[1;33m.\u001b[0m\u001b[0m_fit_resample\u001b[0m\u001b[1;33m(\u001b[0m\u001b[0mX\u001b[0m\u001b[1;33m,\u001b[0m \u001b[0my\u001b[0m\u001b[1;33m)\u001b[0m\u001b[1;33m\u001b[0m\u001b[1;33m\u001b[0m\u001b[0m\n\u001b[0m\u001b[0;32m     86\u001b[0m \u001b[1;33m\u001b[0m\u001b[0m\n\u001b[0;32m     87\u001b[0m         \u001b[1;32mif\u001b[0m \u001b[0mbinarize_y\u001b[0m\u001b[1;33m:\u001b[0m\u001b[1;33m\u001b[0m\u001b[1;33m\u001b[0m\u001b[0m\n",
      "\u001b[1;32mF:\\Anaconda\\lib\\site-packages\\imblearn\\over_sampling\\_smote.py\u001b[0m in \u001b[0;36m_fit_resample\u001b[1;34m(self, X, y)\u001b[0m\n\u001b[0;32m    794\u001b[0m     \u001b[1;32mdef\u001b[0m \u001b[0m_fit_resample\u001b[0m\u001b[1;33m(\u001b[0m\u001b[0mself\u001b[0m\u001b[1;33m,\u001b[0m \u001b[0mX\u001b[0m\u001b[1;33m,\u001b[0m \u001b[0my\u001b[0m\u001b[1;33m)\u001b[0m\u001b[1;33m:\u001b[0m\u001b[1;33m\u001b[0m\u001b[1;33m\u001b[0m\u001b[0m\n\u001b[0;32m    795\u001b[0m         \u001b[0mself\u001b[0m\u001b[1;33m.\u001b[0m\u001b[0m_validate_estimator\u001b[0m\u001b[1;33m(\u001b[0m\u001b[1;33m)\u001b[0m\u001b[1;33m\u001b[0m\u001b[1;33m\u001b[0m\u001b[0m\n\u001b[1;32m--> 796\u001b[1;33m         \u001b[1;32mreturn\u001b[0m \u001b[0mself\u001b[0m\u001b[1;33m.\u001b[0m\u001b[0m_sample\u001b[0m\u001b[1;33m(\u001b[0m\u001b[0mX\u001b[0m\u001b[1;33m,\u001b[0m \u001b[0my\u001b[0m\u001b[1;33m)\u001b[0m\u001b[1;33m\u001b[0m\u001b[1;33m\u001b[0m\u001b[0m\n\u001b[0m\u001b[0;32m    797\u001b[0m \u001b[1;33m\u001b[0m\u001b[0m\n\u001b[0;32m    798\u001b[0m     \u001b[1;32mdef\u001b[0m \u001b[0m_sample\u001b[0m\u001b[1;33m(\u001b[0m\u001b[0mself\u001b[0m\u001b[1;33m,\u001b[0m \u001b[0mX\u001b[0m\u001b[1;33m,\u001b[0m \u001b[0my\u001b[0m\u001b[1;33m)\u001b[0m\u001b[1;33m:\u001b[0m\u001b[1;33m\u001b[0m\u001b[1;33m\u001b[0m\u001b[0m\n",
      "\u001b[1;32mF:\\Anaconda\\lib\\site-packages\\imblearn\\over_sampling\\_smote.py\u001b[0m in \u001b[0;36m_sample\u001b[1;34m(self, X, y)\u001b[0m\n\u001b[0;32m    810\u001b[0m \u001b[1;33m\u001b[0m\u001b[0m\n\u001b[0;32m    811\u001b[0m             \u001b[0mself\u001b[0m\u001b[1;33m.\u001b[0m\u001b[0mnn_k_\u001b[0m\u001b[1;33m.\u001b[0m\u001b[0mfit\u001b[0m\u001b[1;33m(\u001b[0m\u001b[0mX_class\u001b[0m\u001b[1;33m)\u001b[0m\u001b[1;33m\u001b[0m\u001b[1;33m\u001b[0m\u001b[0m\n\u001b[1;32m--> 812\u001b[1;33m             \u001b[0mnns\u001b[0m \u001b[1;33m=\u001b[0m \u001b[0mself\u001b[0m\u001b[1;33m.\u001b[0m\u001b[0mnn_k_\u001b[0m\u001b[1;33m.\u001b[0m\u001b[0mkneighbors\u001b[0m\u001b[1;33m(\u001b[0m\u001b[0mX_class\u001b[0m\u001b[1;33m,\u001b[0m \u001b[0mreturn_distance\u001b[0m\u001b[1;33m=\u001b[0m\u001b[1;32mFalse\u001b[0m\u001b[1;33m)\u001b[0m\u001b[1;33m[\u001b[0m\u001b[1;33m:\u001b[0m\u001b[1;33m,\u001b[0m \u001b[1;36m1\u001b[0m\u001b[1;33m:\u001b[0m\u001b[1;33m]\u001b[0m\u001b[1;33m\u001b[0m\u001b[1;33m\u001b[0m\u001b[0m\n\u001b[0m\u001b[0;32m    813\u001b[0m             X_new, y_new = self._make_samples(X_class, y.dtype, class_sample,\n\u001b[0;32m    814\u001b[0m                                               X_class, nns, n_samples, 1.0)\n",
      "\u001b[1;32mF:\\Anaconda\\lib\\site-packages\\sklearn\\neighbors\\base.py\u001b[0m in \u001b[0;36mkneighbors\u001b[1;34m(self, X, n_neighbors, return_distance)\u001b[0m\n\u001b[0;32m    452\u001b[0m                 delayed_query(\n\u001b[0;32m    453\u001b[0m                     self._tree, X[s], n_neighbors, return_distance)\n\u001b[1;32m--> 454\u001b[1;33m                 \u001b[1;32mfor\u001b[0m \u001b[0ms\u001b[0m \u001b[1;32min\u001b[0m \u001b[0mgen_even_slices\u001b[0m\u001b[1;33m(\u001b[0m\u001b[0mX\u001b[0m\u001b[1;33m.\u001b[0m\u001b[0mshape\u001b[0m\u001b[1;33m[\u001b[0m\u001b[1;36m0\u001b[0m\u001b[1;33m]\u001b[0m\u001b[1;33m,\u001b[0m \u001b[0mn_jobs\u001b[0m\u001b[1;33m)\u001b[0m\u001b[1;33m\u001b[0m\u001b[1;33m\u001b[0m\u001b[0m\n\u001b[0m\u001b[0;32m    455\u001b[0m             )\n\u001b[0;32m    456\u001b[0m         \u001b[1;32melse\u001b[0m\u001b[1;33m:\u001b[0m\u001b[1;33m\u001b[0m\u001b[1;33m\u001b[0m\u001b[0m\n",
      "\u001b[1;32mF:\\Anaconda\\lib\\site-packages\\joblib\\parallel.py\u001b[0m in \u001b[0;36m__call__\u001b[1;34m(self, iterable)\u001b[0m\n\u001b[0;32m    919\u001b[0m             \u001b[1;31m# remaining jobs.\u001b[0m\u001b[1;33m\u001b[0m\u001b[1;33m\u001b[0m\u001b[1;33m\u001b[0m\u001b[0m\n\u001b[0;32m    920\u001b[0m             \u001b[0mself\u001b[0m\u001b[1;33m.\u001b[0m\u001b[0m_iterating\u001b[0m \u001b[1;33m=\u001b[0m \u001b[1;32mFalse\u001b[0m\u001b[1;33m\u001b[0m\u001b[1;33m\u001b[0m\u001b[0m\n\u001b[1;32m--> 921\u001b[1;33m             \u001b[1;32mif\u001b[0m \u001b[0mself\u001b[0m\u001b[1;33m.\u001b[0m\u001b[0mdispatch_one_batch\u001b[0m\u001b[1;33m(\u001b[0m\u001b[0miterator\u001b[0m\u001b[1;33m)\u001b[0m\u001b[1;33m:\u001b[0m\u001b[1;33m\u001b[0m\u001b[1;33m\u001b[0m\u001b[0m\n\u001b[0m\u001b[0;32m    922\u001b[0m                 \u001b[0mself\u001b[0m\u001b[1;33m.\u001b[0m\u001b[0m_iterating\u001b[0m \u001b[1;33m=\u001b[0m \u001b[0mself\u001b[0m\u001b[1;33m.\u001b[0m\u001b[0m_original_iterator\u001b[0m \u001b[1;32mis\u001b[0m \u001b[1;32mnot\u001b[0m \u001b[1;32mNone\u001b[0m\u001b[1;33m\u001b[0m\u001b[1;33m\u001b[0m\u001b[0m\n\u001b[0;32m    923\u001b[0m \u001b[1;33m\u001b[0m\u001b[0m\n",
      "\u001b[1;32mF:\\Anaconda\\lib\\site-packages\\joblib\\parallel.py\u001b[0m in \u001b[0;36mdispatch_one_batch\u001b[1;34m(self, iterator)\u001b[0m\n\u001b[0;32m    757\u001b[0m                 \u001b[1;32mreturn\u001b[0m \u001b[1;32mFalse\u001b[0m\u001b[1;33m\u001b[0m\u001b[1;33m\u001b[0m\u001b[0m\n\u001b[0;32m    758\u001b[0m             \u001b[1;32melse\u001b[0m\u001b[1;33m:\u001b[0m\u001b[1;33m\u001b[0m\u001b[1;33m\u001b[0m\u001b[0m\n\u001b[1;32m--> 759\u001b[1;33m                 \u001b[0mself\u001b[0m\u001b[1;33m.\u001b[0m\u001b[0m_dispatch\u001b[0m\u001b[1;33m(\u001b[0m\u001b[0mtasks\u001b[0m\u001b[1;33m)\u001b[0m\u001b[1;33m\u001b[0m\u001b[1;33m\u001b[0m\u001b[0m\n\u001b[0m\u001b[0;32m    760\u001b[0m                 \u001b[1;32mreturn\u001b[0m \u001b[1;32mTrue\u001b[0m\u001b[1;33m\u001b[0m\u001b[1;33m\u001b[0m\u001b[0m\n\u001b[0;32m    761\u001b[0m \u001b[1;33m\u001b[0m\u001b[0m\n",
      "\u001b[1;32mF:\\Anaconda\\lib\\site-packages\\joblib\\parallel.py\u001b[0m in \u001b[0;36m_dispatch\u001b[1;34m(self, batch)\u001b[0m\n\u001b[0;32m    714\u001b[0m         \u001b[1;32mwith\u001b[0m \u001b[0mself\u001b[0m\u001b[1;33m.\u001b[0m\u001b[0m_lock\u001b[0m\u001b[1;33m:\u001b[0m\u001b[1;33m\u001b[0m\u001b[1;33m\u001b[0m\u001b[0m\n\u001b[0;32m    715\u001b[0m             \u001b[0mjob_idx\u001b[0m \u001b[1;33m=\u001b[0m \u001b[0mlen\u001b[0m\u001b[1;33m(\u001b[0m\u001b[0mself\u001b[0m\u001b[1;33m.\u001b[0m\u001b[0m_jobs\u001b[0m\u001b[1;33m)\u001b[0m\u001b[1;33m\u001b[0m\u001b[1;33m\u001b[0m\u001b[0m\n\u001b[1;32m--> 716\u001b[1;33m             \u001b[0mjob\u001b[0m \u001b[1;33m=\u001b[0m \u001b[0mself\u001b[0m\u001b[1;33m.\u001b[0m\u001b[0m_backend\u001b[0m\u001b[1;33m.\u001b[0m\u001b[0mapply_async\u001b[0m\u001b[1;33m(\u001b[0m\u001b[0mbatch\u001b[0m\u001b[1;33m,\u001b[0m \u001b[0mcallback\u001b[0m\u001b[1;33m=\u001b[0m\u001b[0mcb\u001b[0m\u001b[1;33m)\u001b[0m\u001b[1;33m\u001b[0m\u001b[1;33m\u001b[0m\u001b[0m\n\u001b[0m\u001b[0;32m    717\u001b[0m             \u001b[1;31m# A job can complete so quickly than its callback is\u001b[0m\u001b[1;33m\u001b[0m\u001b[1;33m\u001b[0m\u001b[1;33m\u001b[0m\u001b[0m\n\u001b[0;32m    718\u001b[0m             \u001b[1;31m# called before we get here, causing self._jobs to\u001b[0m\u001b[1;33m\u001b[0m\u001b[1;33m\u001b[0m\u001b[1;33m\u001b[0m\u001b[0m\n",
      "\u001b[1;32mF:\\Anaconda\\lib\\site-packages\\joblib\\_parallel_backends.py\u001b[0m in \u001b[0;36mapply_async\u001b[1;34m(self, func, callback)\u001b[0m\n\u001b[0;32m    180\u001b[0m     \u001b[1;32mdef\u001b[0m \u001b[0mapply_async\u001b[0m\u001b[1;33m(\u001b[0m\u001b[0mself\u001b[0m\u001b[1;33m,\u001b[0m \u001b[0mfunc\u001b[0m\u001b[1;33m,\u001b[0m \u001b[0mcallback\u001b[0m\u001b[1;33m=\u001b[0m\u001b[1;32mNone\u001b[0m\u001b[1;33m)\u001b[0m\u001b[1;33m:\u001b[0m\u001b[1;33m\u001b[0m\u001b[1;33m\u001b[0m\u001b[0m\n\u001b[0;32m    181\u001b[0m         \u001b[1;34m\"\"\"Schedule a func to be run\"\"\"\u001b[0m\u001b[1;33m\u001b[0m\u001b[1;33m\u001b[0m\u001b[0m\n\u001b[1;32m--> 182\u001b[1;33m         \u001b[0mresult\u001b[0m \u001b[1;33m=\u001b[0m \u001b[0mImmediateResult\u001b[0m\u001b[1;33m(\u001b[0m\u001b[0mfunc\u001b[0m\u001b[1;33m)\u001b[0m\u001b[1;33m\u001b[0m\u001b[1;33m\u001b[0m\u001b[0m\n\u001b[0m\u001b[0;32m    183\u001b[0m         \u001b[1;32mif\u001b[0m \u001b[0mcallback\u001b[0m\u001b[1;33m:\u001b[0m\u001b[1;33m\u001b[0m\u001b[1;33m\u001b[0m\u001b[0m\n\u001b[0;32m    184\u001b[0m             \u001b[0mcallback\u001b[0m\u001b[1;33m(\u001b[0m\u001b[0mresult\u001b[0m\u001b[1;33m)\u001b[0m\u001b[1;33m\u001b[0m\u001b[1;33m\u001b[0m\u001b[0m\n",
      "\u001b[1;32mF:\\Anaconda\\lib\\site-packages\\joblib\\_parallel_backends.py\u001b[0m in \u001b[0;36m__init__\u001b[1;34m(self, batch)\u001b[0m\n\u001b[0;32m    547\u001b[0m         \u001b[1;31m# Don't delay the application, to avoid keeping the input\u001b[0m\u001b[1;33m\u001b[0m\u001b[1;33m\u001b[0m\u001b[1;33m\u001b[0m\u001b[0m\n\u001b[0;32m    548\u001b[0m         \u001b[1;31m# arguments in memory\u001b[0m\u001b[1;33m\u001b[0m\u001b[1;33m\u001b[0m\u001b[1;33m\u001b[0m\u001b[0m\n\u001b[1;32m--> 549\u001b[1;33m         \u001b[0mself\u001b[0m\u001b[1;33m.\u001b[0m\u001b[0mresults\u001b[0m \u001b[1;33m=\u001b[0m \u001b[0mbatch\u001b[0m\u001b[1;33m(\u001b[0m\u001b[1;33m)\u001b[0m\u001b[1;33m\u001b[0m\u001b[1;33m\u001b[0m\u001b[0m\n\u001b[0m\u001b[0;32m    550\u001b[0m \u001b[1;33m\u001b[0m\u001b[0m\n\u001b[0;32m    551\u001b[0m     \u001b[1;32mdef\u001b[0m \u001b[0mget\u001b[0m\u001b[1;33m(\u001b[0m\u001b[0mself\u001b[0m\u001b[1;33m)\u001b[0m\u001b[1;33m:\u001b[0m\u001b[1;33m\u001b[0m\u001b[1;33m\u001b[0m\u001b[0m\n",
      "\u001b[1;32mF:\\Anaconda\\lib\\site-packages\\joblib\\parallel.py\u001b[0m in \u001b[0;36m__call__\u001b[1;34m(self)\u001b[0m\n\u001b[0;32m    223\u001b[0m         \u001b[1;32mwith\u001b[0m \u001b[0mparallel_backend\u001b[0m\u001b[1;33m(\u001b[0m\u001b[0mself\u001b[0m\u001b[1;33m.\u001b[0m\u001b[0m_backend\u001b[0m\u001b[1;33m,\u001b[0m \u001b[0mn_jobs\u001b[0m\u001b[1;33m=\u001b[0m\u001b[0mself\u001b[0m\u001b[1;33m.\u001b[0m\u001b[0m_n_jobs\u001b[0m\u001b[1;33m)\u001b[0m\u001b[1;33m:\u001b[0m\u001b[1;33m\u001b[0m\u001b[1;33m\u001b[0m\u001b[0m\n\u001b[0;32m    224\u001b[0m             return [func(*args, **kwargs)\n\u001b[1;32m--> 225\u001b[1;33m                     for func, args, kwargs in self.items]\n\u001b[0m\u001b[0;32m    226\u001b[0m \u001b[1;33m\u001b[0m\u001b[0m\n\u001b[0;32m    227\u001b[0m     \u001b[1;32mdef\u001b[0m \u001b[0m__len__\u001b[0m\u001b[1;33m(\u001b[0m\u001b[0mself\u001b[0m\u001b[1;33m)\u001b[0m\u001b[1;33m:\u001b[0m\u001b[1;33m\u001b[0m\u001b[1;33m\u001b[0m\u001b[0m\n",
      "\u001b[1;32mF:\\Anaconda\\lib\\site-packages\\joblib\\parallel.py\u001b[0m in \u001b[0;36m<listcomp>\u001b[1;34m(.0)\u001b[0m\n\u001b[0;32m    223\u001b[0m         \u001b[1;32mwith\u001b[0m \u001b[0mparallel_backend\u001b[0m\u001b[1;33m(\u001b[0m\u001b[0mself\u001b[0m\u001b[1;33m.\u001b[0m\u001b[0m_backend\u001b[0m\u001b[1;33m,\u001b[0m \u001b[0mn_jobs\u001b[0m\u001b[1;33m=\u001b[0m\u001b[0mself\u001b[0m\u001b[1;33m.\u001b[0m\u001b[0m_n_jobs\u001b[0m\u001b[1;33m)\u001b[0m\u001b[1;33m:\u001b[0m\u001b[1;33m\u001b[0m\u001b[1;33m\u001b[0m\u001b[0m\n\u001b[0;32m    224\u001b[0m             return [func(*args, **kwargs)\n\u001b[1;32m--> 225\u001b[1;33m                     for func, args, kwargs in self.items]\n\u001b[0m\u001b[0;32m    226\u001b[0m \u001b[1;33m\u001b[0m\u001b[0m\n\u001b[0;32m    227\u001b[0m     \u001b[1;32mdef\u001b[0m \u001b[0m__len__\u001b[0m\u001b[1;33m(\u001b[0m\u001b[0mself\u001b[0m\u001b[1;33m)\u001b[0m\u001b[1;33m:\u001b[0m\u001b[1;33m\u001b[0m\u001b[1;33m\u001b[0m\u001b[0m\n",
      "\u001b[1;32mF:\\Anaconda\\lib\\site-packages\\sklearn\\neighbors\\base.py\u001b[0m in \u001b[0;36m_tree_query_parallel_helper\u001b[1;34m(tree, data, n_neighbors, return_distance)\u001b[0m\n\u001b[0;32m    289\u001b[0m     \u001b[0munder\u001b[0m \u001b[0mPyPy\u001b[0m\u001b[1;33m.\u001b[0m\u001b[1;33m\u001b[0m\u001b[1;33m\u001b[0m\u001b[0m\n\u001b[0;32m    290\u001b[0m     \"\"\"\n\u001b[1;32m--> 291\u001b[1;33m     \u001b[1;32mreturn\u001b[0m \u001b[0mtree\u001b[0m\u001b[1;33m.\u001b[0m\u001b[0mquery\u001b[0m\u001b[1;33m(\u001b[0m\u001b[0mdata\u001b[0m\u001b[1;33m,\u001b[0m \u001b[0mn_neighbors\u001b[0m\u001b[1;33m,\u001b[0m \u001b[0mreturn_distance\u001b[0m\u001b[1;33m)\u001b[0m\u001b[1;33m\u001b[0m\u001b[1;33m\u001b[0m\u001b[0m\n\u001b[0m\u001b[0;32m    292\u001b[0m \u001b[1;33m\u001b[0m\u001b[0m\n\u001b[0;32m    293\u001b[0m \u001b[1;33m\u001b[0m\u001b[0m\n",
      "\u001b[1;31mKeyboardInterrupt\u001b[0m: "
     ]
    }
   ],
   "source": [
    "from imblearn.over_sampling import SMOTE\n",
    "\n",
    "sm = SMOTE(random_state = 42)\n",
    "\n",
    "X_resample, y_resample = sm.fit_resample(X,y)\n",
    "\n",
    "print(X_resample.shape)\n",
    "#Is this supposed to be so much larger then what I originally put in? "
   ]
  },
  {
   "cell_type": "code",
   "execution_count": null,
   "metadata": {},
   "outputs": [],
   "source": [
    "y_resample.shape"
   ]
  },
  {
   "cell_type": "code",
   "execution_count": null,
   "metadata": {},
   "outputs": [],
   "source": [
    "X_train, X_test, y_train, y_test = train_test_split(X_resample, y_resample, test_size = .2 )\n",
    "rfc = RandomForestClassifier(n_estimators = 100)\n",
    "\n",
    "rfc.fit(X_train, y_train)\n",
    "\n",
    "y_pred = rfc.predict(X_test)\n",
    "\n",
    "\n",
    "print(\"Accuracy:\", metrics.accuracy_score(y_test, y_pred))"
   ]
  },
  {
   "cell_type": "code",
   "execution_count": null,
   "metadata": {},
   "outputs": [],
   "source": [
    "conf_matrix = confusion_matrix(y_test, y_pred)\n",
    "print(\"Misclassification Rate: \" + \n",
    "      str(((conf_matrix[0][1] + conf_matrix[1][0]) / conf_matrix.sum())*100 ) +'%')\n",
    "print(\"True positive rate: \" + \n",
    "      str((conf_matrix[1][1] / (conf_matrix[1].sum()))*100 ) +'%')\n",
    "print(\"False positive rate: \" +\n",
    "     str((conf_matrix[0][1] / (conf_matrix[0].sum()))*100 ) +'%')\n",
    "print(\"True negative rate: \"+\n",
    "     str((conf_matrix[0][0] / (conf_matrix[0].sum()))*100 ) +'%')"
   ]
  },
  {
   "cell_type": "markdown",
   "metadata": {},
   "source": [
    "Cool, I was able to get another random forest model with similiar results, only slightly better. "
   ]
  },
  {
   "cell_type": "code",
   "execution_count": null,
   "metadata": {},
   "outputs": [],
   "source": [
    "from sklearn.ensemble import GradientBoostingClassifier\n",
    "from sklearn.metrics import classification_report, roc_curve, auc"
   ]
  },
  {
   "cell_type": "code",
   "execution_count": null,
   "metadata": {},
   "outputs": [],
   "source": [
    "learning_rates = [.05, .1, .25, .5, .75, 1]\n",
    "\n",
    "for learning_rate in learning_rates:\n",
    "    gb = GradientBoostingClassifier(n_estimators = 20, learning_rate = learning_rate, random_state = 0)\n",
    "    gb.fit(X_train, y_train)\n",
    "    print(\"Learning rate: \", learning_rate)\n",
    "    print(\"Accuracy score (training): {0:.3f}\".format(gb.score(X_train, y_train)))\n",
    "    print(\"Accuracy score (test): {0:.3f}\".format(gb.score(X_test, y_test)))\n",
    "    print()"
   ]
  },
  {
   "cell_type": "code",
   "execution_count": null,
   "metadata": {},
   "outputs": [],
   "source": []
  }
 ],
 "metadata": {
  "kernelspec": {
   "display_name": "Python 3",
   "language": "python",
   "name": "python3"
  },
  "language_info": {
   "codemirror_mode": {
    "name": "ipython",
    "version": 3
   },
   "file_extension": ".py",
   "mimetype": "text/x-python",
   "name": "python",
   "nbconvert_exporter": "python",
   "pygments_lexer": "ipython3",
   "version": "3.7.3"
  }
 },
 "nbformat": 4,
 "nbformat_minor": 2
}
