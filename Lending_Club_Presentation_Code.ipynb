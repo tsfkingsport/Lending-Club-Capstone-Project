{
  "nbformat": 4,
  "nbformat_minor": 0,
  "metadata": {
    "colab": {
      "name": "Lending Club Presentation Code",
      "version": "0.3.2",
      "provenance": [],
      "collapsed_sections": [],
      "include_colab_link": true
    },
    "language_info": {
      "codemirror_mode": {
        "name": "ipython",
        "version": 3
      },
      "file_extension": ".py",
      "mimetype": "text/x-python",
      "name": "python",
      "nbconvert_exporter": "python",
      "pygments_lexer": "ipython3",
      "version": "3.7.3"
    },
    "kernelspec": {
      "name": "python3",
      "display_name": "Python 3"
    },
    "accelerator": "GPU"
  },
  "cells": [
    {
      "cell_type": "markdown",
      "metadata": {
        "id": "view-in-github",
        "colab_type": "text"
      },
      "source": [
        "<a href=\"https://colab.research.google.com/github/tsfkingsport/Lending-Club-Capstone-Project/blob/master/Lending_Club_Presentation_Code.ipynb\" target=\"_parent\"><img src=\"https://colab.research.google.com/assets/colab-badge.svg\" alt=\"Open In Colab\"/></a>"
      ]
    },
    {
      "cell_type": "code",
      "metadata": {
        "id": "QLJmFpCCHnLi",
        "colab_type": "code",
        "colab": {}
      },
      "source": [
        "import tensorflow as tf\n",
        "import pandas as pd\n",
        "import seaborn as sns\n",
        "import numpy as np\n",
        "import matplotlib.pyplot as plt\n",
        "from collections import Counter\n",
        "\n",
        "%matplotlib inline\n"
      ],
      "execution_count": 0,
      "outputs": []
    },
    {
      "cell_type": "code",
      "metadata": {
        "id": "_YImIxjrH4qX",
        "colab_type": "code",
        "outputId": "fd84bdf5-a9ff-44e1-ec66-d354dc74d155",
        "colab": {
          "base_uri": "https://localhost:8080/",
          "height": 130
        }
      },
      "source": [
        "from google.colab import drive\n",
        "drive.mount('/content/gdrive')\n"
      ],
      "execution_count": 0,
      "outputs": [
        {
          "output_type": "stream",
          "text": [
            "Go to this URL in a browser: https://accounts.google.com/o/oauth2/auth?client_id=947318989803-6bn6qk8qdgf4n4g3pfee6491hc0brc4i.apps.googleusercontent.com&redirect_uri=urn%3Aietf%3Awg%3Aoauth%3A2.0%3Aoob&scope=email%20https%3A%2F%2Fwww.googleapis.com%2Fauth%2Fdocs.test%20https%3A%2F%2Fwww.googleapis.com%2Fauth%2Fdrive%20https%3A%2F%2Fwww.googleapis.com%2Fauth%2Fdrive.photos.readonly%20https%3A%2F%2Fwww.googleapis.com%2Fauth%2Fpeopleapi.readonly&response_type=code\n",
            "\n",
            "Enter your authorization code:\n",
            "··········\n",
            "Mounted at /content/gdrive\n"
          ],
          "name": "stdout"
        }
      ]
    },
    {
      "cell_type": "code",
      "metadata": {
        "id": "81gGrDaJIuJ5",
        "colab_type": "code",
        "colab": {}
      },
      "source": [
        "import os\n",
        "os.chdir('/content/gdrive/My Drive/Data_Science')"
      ],
      "execution_count": 0,
      "outputs": []
    },
    {
      "cell_type": "code",
      "metadata": {
        "id": "-BDYgmfDHnLt",
        "colab_type": "code",
        "outputId": "612efa50-157f-44f6-acff-3edc3d843949",
        "colab": {
          "base_uri": "https://localhost:8080/",
          "height": 342
        }
      },
      "source": [
        "df = pd.read_csv('loan.csv',\n",
        "                low_memory = False)\n",
        "\n",
        "\n",
        "df.head()"
      ],
      "execution_count": 0,
      "outputs": [
        {
          "output_type": "execute_result",
          "data": {
            "text/html": [
              "<div>\n",
              "<style scoped>\n",
              "    .dataframe tbody tr th:only-of-type {\n",
              "        vertical-align: middle;\n",
              "    }\n",
              "\n",
              "    .dataframe tbody tr th {\n",
              "        vertical-align: top;\n",
              "    }\n",
              "\n",
              "    .dataframe thead th {\n",
              "        text-align: right;\n",
              "    }\n",
              "</style>\n",
              "<table border=\"1\" class=\"dataframe\">\n",
              "  <thead>\n",
              "    <tr style=\"text-align: right;\">\n",
              "      <th></th>\n",
              "      <th>id</th>\n",
              "      <th>member_id</th>\n",
              "      <th>loan_amnt</th>\n",
              "      <th>funded_amnt</th>\n",
              "      <th>funded_amnt_inv</th>\n",
              "      <th>term</th>\n",
              "      <th>int_rate</th>\n",
              "      <th>installment</th>\n",
              "      <th>grade</th>\n",
              "      <th>sub_grade</th>\n",
              "      <th>emp_title</th>\n",
              "      <th>emp_length</th>\n",
              "      <th>home_ownership</th>\n",
              "      <th>annual_inc</th>\n",
              "      <th>verification_status</th>\n",
              "      <th>issue_d</th>\n",
              "      <th>loan_status</th>\n",
              "      <th>pymnt_plan</th>\n",
              "      <th>url</th>\n",
              "      <th>desc</th>\n",
              "      <th>purpose</th>\n",
              "      <th>title</th>\n",
              "      <th>zip_code</th>\n",
              "      <th>addr_state</th>\n",
              "      <th>dti</th>\n",
              "      <th>delinq_2yrs</th>\n",
              "      <th>earliest_cr_line</th>\n",
              "      <th>inq_last_6mths</th>\n",
              "      <th>mths_since_last_delinq</th>\n",
              "      <th>mths_since_last_record</th>\n",
              "      <th>open_acc</th>\n",
              "      <th>pub_rec</th>\n",
              "      <th>revol_bal</th>\n",
              "      <th>revol_util</th>\n",
              "      <th>total_acc</th>\n",
              "      <th>initial_list_status</th>\n",
              "      <th>out_prncp</th>\n",
              "      <th>out_prncp_inv</th>\n",
              "      <th>total_pymnt</th>\n",
              "      <th>total_pymnt_inv</th>\n",
              "      <th>...</th>\n",
              "      <th>pub_rec_bankruptcies</th>\n",
              "      <th>tax_liens</th>\n",
              "      <th>tot_hi_cred_lim</th>\n",
              "      <th>total_bal_ex_mort</th>\n",
              "      <th>total_bc_limit</th>\n",
              "      <th>total_il_high_credit_limit</th>\n",
              "      <th>revol_bal_joint</th>\n",
              "      <th>sec_app_earliest_cr_line</th>\n",
              "      <th>sec_app_inq_last_6mths</th>\n",
              "      <th>sec_app_mort_acc</th>\n",
              "      <th>sec_app_open_acc</th>\n",
              "      <th>sec_app_revol_util</th>\n",
              "      <th>sec_app_open_act_il</th>\n",
              "      <th>sec_app_num_rev_accts</th>\n",
              "      <th>sec_app_chargeoff_within_12_mths</th>\n",
              "      <th>sec_app_collections_12_mths_ex_med</th>\n",
              "      <th>sec_app_mths_since_last_major_derog</th>\n",
              "      <th>hardship_flag</th>\n",
              "      <th>hardship_type</th>\n",
              "      <th>hardship_reason</th>\n",
              "      <th>hardship_status</th>\n",
              "      <th>deferral_term</th>\n",
              "      <th>hardship_amount</th>\n",
              "      <th>hardship_start_date</th>\n",
              "      <th>hardship_end_date</th>\n",
              "      <th>payment_plan_start_date</th>\n",
              "      <th>hardship_length</th>\n",
              "      <th>hardship_dpd</th>\n",
              "      <th>hardship_loan_status</th>\n",
              "      <th>orig_projected_additional_accrued_interest</th>\n",
              "      <th>hardship_payoff_balance_amount</th>\n",
              "      <th>hardship_last_payment_amount</th>\n",
              "      <th>disbursement_method</th>\n",
              "      <th>debt_settlement_flag</th>\n",
              "      <th>debt_settlement_flag_date</th>\n",
              "      <th>settlement_status</th>\n",
              "      <th>settlement_date</th>\n",
              "      <th>settlement_amount</th>\n",
              "      <th>settlement_percentage</th>\n",
              "      <th>settlement_term</th>\n",
              "    </tr>\n",
              "  </thead>\n",
              "  <tbody>\n",
              "    <tr>\n",
              "      <th>0</th>\n",
              "      <td>NaN</td>\n",
              "      <td>NaN</td>\n",
              "      <td>2500</td>\n",
              "      <td>2500</td>\n",
              "      <td>2500.0</td>\n",
              "      <td>36 months</td>\n",
              "      <td>13.56</td>\n",
              "      <td>84.92</td>\n",
              "      <td>C</td>\n",
              "      <td>C1</td>\n",
              "      <td>Chef</td>\n",
              "      <td>10+ years</td>\n",
              "      <td>RENT</td>\n",
              "      <td>55000.0</td>\n",
              "      <td>Not Verified</td>\n",
              "      <td>Dec-2018</td>\n",
              "      <td>Current</td>\n",
              "      <td>n</td>\n",
              "      <td>NaN</td>\n",
              "      <td>NaN</td>\n",
              "      <td>debt_consolidation</td>\n",
              "      <td>Debt consolidation</td>\n",
              "      <td>109xx</td>\n",
              "      <td>NY</td>\n",
              "      <td>18.24</td>\n",
              "      <td>0.0</td>\n",
              "      <td>Apr-2001</td>\n",
              "      <td>1.0</td>\n",
              "      <td>NaN</td>\n",
              "      <td>45.0</td>\n",
              "      <td>9.0</td>\n",
              "      <td>1.0</td>\n",
              "      <td>4341</td>\n",
              "      <td>10.3</td>\n",
              "      <td>34.0</td>\n",
              "      <td>w</td>\n",
              "      <td>2386.02</td>\n",
              "      <td>2386.02</td>\n",
              "      <td>167.02</td>\n",
              "      <td>167.02</td>\n",
              "      <td>...</td>\n",
              "      <td>1.0</td>\n",
              "      <td>0.0</td>\n",
              "      <td>60124.0</td>\n",
              "      <td>16901.0</td>\n",
              "      <td>36500.0</td>\n",
              "      <td>18124.0</td>\n",
              "      <td>NaN</td>\n",
              "      <td>NaN</td>\n",
              "      <td>NaN</td>\n",
              "      <td>NaN</td>\n",
              "      <td>NaN</td>\n",
              "      <td>NaN</td>\n",
              "      <td>NaN</td>\n",
              "      <td>NaN</td>\n",
              "      <td>NaN</td>\n",
              "      <td>NaN</td>\n",
              "      <td>NaN</td>\n",
              "      <td>N</td>\n",
              "      <td>NaN</td>\n",
              "      <td>NaN</td>\n",
              "      <td>NaN</td>\n",
              "      <td>NaN</td>\n",
              "      <td>NaN</td>\n",
              "      <td>NaN</td>\n",
              "      <td>NaN</td>\n",
              "      <td>NaN</td>\n",
              "      <td>NaN</td>\n",
              "      <td>NaN</td>\n",
              "      <td>NaN</td>\n",
              "      <td>NaN</td>\n",
              "      <td>NaN</td>\n",
              "      <td>NaN</td>\n",
              "      <td>Cash</td>\n",
              "      <td>N</td>\n",
              "      <td>NaN</td>\n",
              "      <td>NaN</td>\n",
              "      <td>NaN</td>\n",
              "      <td>NaN</td>\n",
              "      <td>NaN</td>\n",
              "      <td>NaN</td>\n",
              "    </tr>\n",
              "    <tr>\n",
              "      <th>1</th>\n",
              "      <td>NaN</td>\n",
              "      <td>NaN</td>\n",
              "      <td>30000</td>\n",
              "      <td>30000</td>\n",
              "      <td>30000.0</td>\n",
              "      <td>60 months</td>\n",
              "      <td>18.94</td>\n",
              "      <td>777.23</td>\n",
              "      <td>D</td>\n",
              "      <td>D2</td>\n",
              "      <td>Postmaster</td>\n",
              "      <td>10+ years</td>\n",
              "      <td>MORTGAGE</td>\n",
              "      <td>90000.0</td>\n",
              "      <td>Source Verified</td>\n",
              "      <td>Dec-2018</td>\n",
              "      <td>Current</td>\n",
              "      <td>n</td>\n",
              "      <td>NaN</td>\n",
              "      <td>NaN</td>\n",
              "      <td>debt_consolidation</td>\n",
              "      <td>Debt consolidation</td>\n",
              "      <td>713xx</td>\n",
              "      <td>LA</td>\n",
              "      <td>26.52</td>\n",
              "      <td>0.0</td>\n",
              "      <td>Jun-1987</td>\n",
              "      <td>0.0</td>\n",
              "      <td>71.0</td>\n",
              "      <td>75.0</td>\n",
              "      <td>13.0</td>\n",
              "      <td>1.0</td>\n",
              "      <td>12315</td>\n",
              "      <td>24.2</td>\n",
              "      <td>44.0</td>\n",
              "      <td>w</td>\n",
              "      <td>29387.75</td>\n",
              "      <td>29387.75</td>\n",
              "      <td>1507.11</td>\n",
              "      <td>1507.11</td>\n",
              "      <td>...</td>\n",
              "      <td>1.0</td>\n",
              "      <td>0.0</td>\n",
              "      <td>372872.0</td>\n",
              "      <td>99468.0</td>\n",
              "      <td>15000.0</td>\n",
              "      <td>94072.0</td>\n",
              "      <td>NaN</td>\n",
              "      <td>NaN</td>\n",
              "      <td>NaN</td>\n",
              "      <td>NaN</td>\n",
              "      <td>NaN</td>\n",
              "      <td>NaN</td>\n",
              "      <td>NaN</td>\n",
              "      <td>NaN</td>\n",
              "      <td>NaN</td>\n",
              "      <td>NaN</td>\n",
              "      <td>NaN</td>\n",
              "      <td>N</td>\n",
              "      <td>NaN</td>\n",
              "      <td>NaN</td>\n",
              "      <td>NaN</td>\n",
              "      <td>NaN</td>\n",
              "      <td>NaN</td>\n",
              "      <td>NaN</td>\n",
              "      <td>NaN</td>\n",
              "      <td>NaN</td>\n",
              "      <td>NaN</td>\n",
              "      <td>NaN</td>\n",
              "      <td>NaN</td>\n",
              "      <td>NaN</td>\n",
              "      <td>NaN</td>\n",
              "      <td>NaN</td>\n",
              "      <td>Cash</td>\n",
              "      <td>N</td>\n",
              "      <td>NaN</td>\n",
              "      <td>NaN</td>\n",
              "      <td>NaN</td>\n",
              "      <td>NaN</td>\n",
              "      <td>NaN</td>\n",
              "      <td>NaN</td>\n",
              "    </tr>\n",
              "    <tr>\n",
              "      <th>2</th>\n",
              "      <td>NaN</td>\n",
              "      <td>NaN</td>\n",
              "      <td>5000</td>\n",
              "      <td>5000</td>\n",
              "      <td>5000.0</td>\n",
              "      <td>36 months</td>\n",
              "      <td>17.97</td>\n",
              "      <td>180.69</td>\n",
              "      <td>D</td>\n",
              "      <td>D1</td>\n",
              "      <td>Administrative</td>\n",
              "      <td>6 years</td>\n",
              "      <td>MORTGAGE</td>\n",
              "      <td>59280.0</td>\n",
              "      <td>Source Verified</td>\n",
              "      <td>Dec-2018</td>\n",
              "      <td>Current</td>\n",
              "      <td>n</td>\n",
              "      <td>NaN</td>\n",
              "      <td>NaN</td>\n",
              "      <td>debt_consolidation</td>\n",
              "      <td>Debt consolidation</td>\n",
              "      <td>490xx</td>\n",
              "      <td>MI</td>\n",
              "      <td>10.51</td>\n",
              "      <td>0.0</td>\n",
              "      <td>Apr-2011</td>\n",
              "      <td>0.0</td>\n",
              "      <td>NaN</td>\n",
              "      <td>NaN</td>\n",
              "      <td>8.0</td>\n",
              "      <td>0.0</td>\n",
              "      <td>4599</td>\n",
              "      <td>19.1</td>\n",
              "      <td>13.0</td>\n",
              "      <td>w</td>\n",
              "      <td>4787.21</td>\n",
              "      <td>4787.21</td>\n",
              "      <td>353.89</td>\n",
              "      <td>353.89</td>\n",
              "      <td>...</td>\n",
              "      <td>0.0</td>\n",
              "      <td>0.0</td>\n",
              "      <td>136927.0</td>\n",
              "      <td>11749.0</td>\n",
              "      <td>13800.0</td>\n",
              "      <td>10000.0</td>\n",
              "      <td>NaN</td>\n",
              "      <td>NaN</td>\n",
              "      <td>NaN</td>\n",
              "      <td>NaN</td>\n",
              "      <td>NaN</td>\n",
              "      <td>NaN</td>\n",
              "      <td>NaN</td>\n",
              "      <td>NaN</td>\n",
              "      <td>NaN</td>\n",
              "      <td>NaN</td>\n",
              "      <td>NaN</td>\n",
              "      <td>N</td>\n",
              "      <td>NaN</td>\n",
              "      <td>NaN</td>\n",
              "      <td>NaN</td>\n",
              "      <td>NaN</td>\n",
              "      <td>NaN</td>\n",
              "      <td>NaN</td>\n",
              "      <td>NaN</td>\n",
              "      <td>NaN</td>\n",
              "      <td>NaN</td>\n",
              "      <td>NaN</td>\n",
              "      <td>NaN</td>\n",
              "      <td>NaN</td>\n",
              "      <td>NaN</td>\n",
              "      <td>NaN</td>\n",
              "      <td>Cash</td>\n",
              "      <td>N</td>\n",
              "      <td>NaN</td>\n",
              "      <td>NaN</td>\n",
              "      <td>NaN</td>\n",
              "      <td>NaN</td>\n",
              "      <td>NaN</td>\n",
              "      <td>NaN</td>\n",
              "    </tr>\n",
              "    <tr>\n",
              "      <th>3</th>\n",
              "      <td>NaN</td>\n",
              "      <td>NaN</td>\n",
              "      <td>4000</td>\n",
              "      <td>4000</td>\n",
              "      <td>4000.0</td>\n",
              "      <td>36 months</td>\n",
              "      <td>18.94</td>\n",
              "      <td>146.51</td>\n",
              "      <td>D</td>\n",
              "      <td>D2</td>\n",
              "      <td>IT Supervisor</td>\n",
              "      <td>10+ years</td>\n",
              "      <td>MORTGAGE</td>\n",
              "      <td>92000.0</td>\n",
              "      <td>Source Verified</td>\n",
              "      <td>Dec-2018</td>\n",
              "      <td>Current</td>\n",
              "      <td>n</td>\n",
              "      <td>NaN</td>\n",
              "      <td>NaN</td>\n",
              "      <td>debt_consolidation</td>\n",
              "      <td>Debt consolidation</td>\n",
              "      <td>985xx</td>\n",
              "      <td>WA</td>\n",
              "      <td>16.74</td>\n",
              "      <td>0.0</td>\n",
              "      <td>Feb-2006</td>\n",
              "      <td>0.0</td>\n",
              "      <td>NaN</td>\n",
              "      <td>NaN</td>\n",
              "      <td>10.0</td>\n",
              "      <td>0.0</td>\n",
              "      <td>5468</td>\n",
              "      <td>78.1</td>\n",
              "      <td>13.0</td>\n",
              "      <td>w</td>\n",
              "      <td>3831.93</td>\n",
              "      <td>3831.93</td>\n",
              "      <td>286.71</td>\n",
              "      <td>286.71</td>\n",
              "      <td>...</td>\n",
              "      <td>0.0</td>\n",
              "      <td>0.0</td>\n",
              "      <td>385183.0</td>\n",
              "      <td>36151.0</td>\n",
              "      <td>5000.0</td>\n",
              "      <td>44984.0</td>\n",
              "      <td>NaN</td>\n",
              "      <td>NaN</td>\n",
              "      <td>NaN</td>\n",
              "      <td>NaN</td>\n",
              "      <td>NaN</td>\n",
              "      <td>NaN</td>\n",
              "      <td>NaN</td>\n",
              "      <td>NaN</td>\n",
              "      <td>NaN</td>\n",
              "      <td>NaN</td>\n",
              "      <td>NaN</td>\n",
              "      <td>N</td>\n",
              "      <td>NaN</td>\n",
              "      <td>NaN</td>\n",
              "      <td>NaN</td>\n",
              "      <td>NaN</td>\n",
              "      <td>NaN</td>\n",
              "      <td>NaN</td>\n",
              "      <td>NaN</td>\n",
              "      <td>NaN</td>\n",
              "      <td>NaN</td>\n",
              "      <td>NaN</td>\n",
              "      <td>NaN</td>\n",
              "      <td>NaN</td>\n",
              "      <td>NaN</td>\n",
              "      <td>NaN</td>\n",
              "      <td>Cash</td>\n",
              "      <td>N</td>\n",
              "      <td>NaN</td>\n",
              "      <td>NaN</td>\n",
              "      <td>NaN</td>\n",
              "      <td>NaN</td>\n",
              "      <td>NaN</td>\n",
              "      <td>NaN</td>\n",
              "    </tr>\n",
              "    <tr>\n",
              "      <th>4</th>\n",
              "      <td>NaN</td>\n",
              "      <td>NaN</td>\n",
              "      <td>30000</td>\n",
              "      <td>30000</td>\n",
              "      <td>30000.0</td>\n",
              "      <td>60 months</td>\n",
              "      <td>16.14</td>\n",
              "      <td>731.78</td>\n",
              "      <td>C</td>\n",
              "      <td>C4</td>\n",
              "      <td>Mechanic</td>\n",
              "      <td>10+ years</td>\n",
              "      <td>MORTGAGE</td>\n",
              "      <td>57250.0</td>\n",
              "      <td>Not Verified</td>\n",
              "      <td>Dec-2018</td>\n",
              "      <td>Current</td>\n",
              "      <td>n</td>\n",
              "      <td>NaN</td>\n",
              "      <td>NaN</td>\n",
              "      <td>debt_consolidation</td>\n",
              "      <td>Debt consolidation</td>\n",
              "      <td>212xx</td>\n",
              "      <td>MD</td>\n",
              "      <td>26.35</td>\n",
              "      <td>0.0</td>\n",
              "      <td>Dec-2000</td>\n",
              "      <td>0.0</td>\n",
              "      <td>NaN</td>\n",
              "      <td>NaN</td>\n",
              "      <td>12.0</td>\n",
              "      <td>0.0</td>\n",
              "      <td>829</td>\n",
              "      <td>3.6</td>\n",
              "      <td>26.0</td>\n",
              "      <td>w</td>\n",
              "      <td>29339.02</td>\n",
              "      <td>29339.02</td>\n",
              "      <td>1423.21</td>\n",
              "      <td>1423.21</td>\n",
              "      <td>...</td>\n",
              "      <td>0.0</td>\n",
              "      <td>0.0</td>\n",
              "      <td>157548.0</td>\n",
              "      <td>29674.0</td>\n",
              "      <td>9300.0</td>\n",
              "      <td>32332.0</td>\n",
              "      <td>NaN</td>\n",
              "      <td>NaN</td>\n",
              "      <td>NaN</td>\n",
              "      <td>NaN</td>\n",
              "      <td>NaN</td>\n",
              "      <td>NaN</td>\n",
              "      <td>NaN</td>\n",
              "      <td>NaN</td>\n",
              "      <td>NaN</td>\n",
              "      <td>NaN</td>\n",
              "      <td>NaN</td>\n",
              "      <td>N</td>\n",
              "      <td>NaN</td>\n",
              "      <td>NaN</td>\n",
              "      <td>NaN</td>\n",
              "      <td>NaN</td>\n",
              "      <td>NaN</td>\n",
              "      <td>NaN</td>\n",
              "      <td>NaN</td>\n",
              "      <td>NaN</td>\n",
              "      <td>NaN</td>\n",
              "      <td>NaN</td>\n",
              "      <td>NaN</td>\n",
              "      <td>NaN</td>\n",
              "      <td>NaN</td>\n",
              "      <td>NaN</td>\n",
              "      <td>Cash</td>\n",
              "      <td>N</td>\n",
              "      <td>NaN</td>\n",
              "      <td>NaN</td>\n",
              "      <td>NaN</td>\n",
              "      <td>NaN</td>\n",
              "      <td>NaN</td>\n",
              "      <td>NaN</td>\n",
              "    </tr>\n",
              "  </tbody>\n",
              "</table>\n",
              "<p>5 rows × 145 columns</p>\n",
              "</div>"
            ],
            "text/plain": [
              "   id  member_id  ...  settlement_percentage  settlement_term\n",
              "0 NaN        NaN  ...                    NaN              NaN\n",
              "1 NaN        NaN  ...                    NaN              NaN\n",
              "2 NaN        NaN  ...                    NaN              NaN\n",
              "3 NaN        NaN  ...                    NaN              NaN\n",
              "4 NaN        NaN  ...                    NaN              NaN\n",
              "\n",
              "[5 rows x 145 columns]"
            ]
          },
          "metadata": {
            "tags": []
          },
          "execution_count": 4
        }
      ]
    },
    {
      "cell_type": "code",
      "metadata": {
        "id": "2tceghktHnL2",
        "colab_type": "code",
        "outputId": "4d307c87-aa10-492e-f4fc-01e17062cd7a",
        "colab": {
          "base_uri": "https://localhost:8080/",
          "height": 129
        }
      },
      "source": [
        "print(df.shape)\n",
        "df.info()"
      ],
      "execution_count": 0,
      "outputs": [
        {
          "output_type": "stream",
          "text": [
            "(2260668, 145)\n",
            "<class 'pandas.core.frame.DataFrame'>\n",
            "RangeIndex: 2260668 entries, 0 to 2260667\n",
            "Columns: 145 entries, id to settlement_term\n",
            "dtypes: float64(105), int64(4), object(36)\n",
            "memory usage: 2.4+ GB\n"
          ],
          "name": "stdout"
        }
      ]
    },
    {
      "cell_type": "code",
      "metadata": {
        "id": "Dd8OOMFsHnL9",
        "colab_type": "code",
        "outputId": "3f74f285-a2ce-48af-ad3e-63d40e13318c",
        "colab": {
          "base_uri": "https://localhost:8080/",
          "height": 1171
        }
      },
      "source": [
        "df.isnull().sum().sort_values(ascending = False)"
      ],
      "execution_count": 0,
      "outputs": [
        {
          "output_type": "execute_result",
          "data": {
            "text/plain": [
              "id                                            2260668\n",
              "member_id                                     2260668\n",
              "url                                           2260668\n",
              "orig_projected_additional_accrued_interest    2252242\n",
              "hardship_start_date                           2250055\n",
              "hardship_end_date                             2250055\n",
              "payment_plan_start_date                       2250055\n",
              "hardship_length                               2250055\n",
              "hardship_dpd                                  2250055\n",
              "hardship_loan_status                          2250055\n",
              "hardship_payoff_balance_amount                2250055\n",
              "deferral_term                                 2250055\n",
              "hardship_last_payment_amount                  2250055\n",
              "hardship_status                               2250055\n",
              "hardship_reason                               2250055\n",
              "hardship_type                                 2250055\n",
              "hardship_amount                               2250055\n",
              "settlement_percentage                         2227612\n",
              "settlement_term                               2227612\n",
              "settlement_status                             2227612\n",
              "debt_settlement_flag_date                     2227612\n",
              "settlement_amount                             2227612\n",
              "settlement_date                               2227612\n",
              "sec_app_mths_since_last_major_derog           2224726\n",
              "sec_app_revol_util                            2154484\n",
              "revol_bal_joint                               2152648\n",
              "sec_app_mort_acc                              2152647\n",
              "sec_app_collections_12_mths_ex_med            2152647\n",
              "sec_app_chargeoff_within_12_mths              2152647\n",
              "sec_app_num_rev_accts                         2152647\n",
              "                                               ...   \n",
              "installment                                         0\n",
              "verification_status                                 0\n",
              "home_ownership                                      0\n",
              "sub_grade                                           0\n",
              "grade                                               0\n",
              "int_rate                                            0\n",
              "term                                                0\n",
              "funded_amnt_inv                                     0\n",
              "funded_amnt                                         0\n",
              "pymnt_plan                                          0\n",
              "hardship_flag                                       0\n",
              "loan_amnt                                           0\n",
              "recoveries                                          0\n",
              "purpose                                             0\n",
              "total_rec_int                                       0\n",
              "debt_settlement_flag                                0\n",
              "application_type                                    0\n",
              "policy_code                                         0\n",
              "last_pymnt_amnt                                     0\n",
              "collection_recovery_fee                             0\n",
              "total_rec_late_fee                                  0\n",
              "total_rec_prncp                                     0\n",
              "addr_state                                          0\n",
              "total_pymnt_inv                                     0\n",
              "total_pymnt                                         0\n",
              "out_prncp_inv                                       0\n",
              "out_prncp                                           0\n",
              "initial_list_status                                 0\n",
              "revol_bal                                           0\n",
              "disbursement_method                                 0\n",
              "Length: 145, dtype: int64"
            ]
          },
          "metadata": {
            "tags": []
          },
          "execution_count": 6
        }
      ]
    },
    {
      "cell_type": "markdown",
      "metadata": {
        "id": "cTv4PnQJHnMD",
        "colab_type": "text"
      },
      "source": [
        "There are multiple columns where every value is null so those columns will be removed immediately. There seem to be about 100,000 rows that have values related to hardship and the rest of the loans have nothing in regards to hardships which makes sense. \n",
        "\n",
        "The amount of null values will require some aggressive cleaning. Luckily there is still a large amount of data even after cleaning"
      ]
    },
    {
      "cell_type": "code",
      "metadata": {
        "id": "o2b1Pod8HnMF",
        "colab_type": "code",
        "colab": {}
      },
      "source": [
        "#Removing the columns with only null values\n",
        "df = df.drop(['id', 'member_id', 'url'], axis = 1)\n"
      ],
      "execution_count": 0,
      "outputs": []
    },
    {
      "cell_type": "code",
      "metadata": {
        "id": "pJYpgErSHnMI",
        "colab_type": "code",
        "outputId": "f2aaff05-3c81-45b3-f4de-57e705374d94",
        "colab": {
          "base_uri": "https://localhost:8080/",
          "height": 36
        }
      },
      "source": [
        "df.shape"
      ],
      "execution_count": 0,
      "outputs": [
        {
          "output_type": "execute_result",
          "data": {
            "text/plain": [
              "(2260668, 142)"
            ]
          },
          "metadata": {
            "tags": []
          },
          "execution_count": 8
        }
      ]
    },
    {
      "cell_type": "code",
      "metadata": {
        "id": "wF_0OW_gHnMO",
        "colab_type": "code",
        "outputId": "1639be2e-be57-46b4-9105-898238f3e70c",
        "colab": {
          "base_uri": "https://localhost:8080/",
          "height": 315
        }
      },
      "source": [
        "#Seeing the distribution of loans across different amounts \n",
        "sns.distplot(df['loan_amnt'], bins = 40).set_title('Amount applied for by borrower')\n"
      ],
      "execution_count": 0,
      "outputs": [
        {
          "output_type": "execute_result",
          "data": {
            "text/plain": [
              "Text(0.5, 1.0, 'Amount applied for by borrower')"
            ]
          },
          "metadata": {
            "tags": []
          },
          "execution_count": 9
        },
        {
          "output_type": "display_data",
          "data": {
            "image/png": "[encoded data removed]",
            "text/plain": [
              "<Figure size 432x288 with 1 Axes>"
            ]
          },
          "metadata": {
            "tags": []
          }
        }
      ]
    },
    {
      "cell_type": "code",
      "metadata": {
        "id": "-On6JlWrHnMU",
        "colab_type": "code",
        "outputId": "cb9c721a-2ab6-4335-eee1-46b45e3d8ad1",
        "colab": {
          "base_uri": "https://localhost:8080/",
          "height": 129
        }
      },
      "source": [
        "#Inspecting the column to see how it represents time\n",
        "df['issue_d'].head()"
      ],
      "execution_count": 0,
      "outputs": [
        {
          "output_type": "execute_result",
          "data": {
            "text/plain": [
              "0    Dec-2018\n",
              "1    Dec-2018\n",
              "2    Dec-2018\n",
              "3    Dec-2018\n",
              "4    Dec-2018\n",
              "Name: issue_d, dtype: object"
            ]
          },
          "metadata": {
            "tags": []
          },
          "execution_count": 10
        }
      ]
    },
    {
      "cell_type": "code",
      "metadata": {
        "id": "Nm7FDVcwHnMd",
        "colab_type": "code",
        "colab": {}
      },
      "source": [
        "#Creating a pandas datetime column with the issue year\n",
        "df['issue_year'] = pd.to_datetime(df['issue_d']).dt.year"
      ],
      "execution_count": 0,
      "outputs": []
    },
    {
      "cell_type": "code",
      "metadata": {
        "id": "8WgozU1AHnMj",
        "colab_type": "code",
        "outputId": "48f3519d-4055-47ce-a8d2-cc996c7fcc80",
        "colab": {
          "base_uri": "https://localhost:8080/",
          "height": 303
        }
      },
      "source": [
        "#Average value for loans issues per year\n",
        "sns.barplot('issue_year', 'loan_amnt', data = df, palette = 'bright')"
      ],
      "execution_count": 0,
      "outputs": [
        {
          "output_type": "execute_result",
          "data": {
            "text/plain": [
              "<matplotlib.axes._subplots.AxesSubplot at 0x7f2e5448f128>"
            ]
          },
          "metadata": {
            "tags": []
          },
          "execution_count": 12
        },
        {
          "output_type": "display_data",
          "data": {
            "image/png": "[encoded data removed]",
            "text/plain": [
              "<Figure size 432x288 with 1 Axes>"
            ]
          },
          "metadata": {
            "tags": []
          }
        }
      ]
    },
    {
      "cell_type": "code",
      "metadata": {
        "id": "9NYK3SqNHnMo",
        "colab_type": "code",
        "outputId": "6d59a046-bd47-42b3-cf04-4726994ab9fb",
        "colab": {
          "base_uri": "https://localhost:8080/",
          "height": 303
        }
      },
      "source": [
        "#Seeing how many loans were issued each year\n",
        "sns.countplot('issue_year', data = df, palette = 'bright')\n"
      ],
      "execution_count": 0,
      "outputs": [
        {
          "output_type": "execute_result",
          "data": {
            "text/plain": [
              "<matplotlib.axes._subplots.AxesSubplot at 0x7f2e543bef60>"
            ]
          },
          "metadata": {
            "tags": []
          },
          "execution_count": 13
        },
        {
          "output_type": "display_data",
          "data": {
            "image/png": "[encoded data removed]",
            "text/plain": [
              "<Figure size 432x288 with 1 Axes>"
            ]
          },
          "metadata": {
            "tags": []
          }
        }
      ]
    },
    {
      "cell_type": "markdown",
      "metadata": {
        "id": "9yDGzu3rHnMv",
        "colab_type": "text"
      },
      "source": [
        "Wow that is some really impressive growth.  Assuming of course that this dataset is representative of all of Lending Club's loans. I will do a count of how many occurances of each year there are. "
      ]
    },
    {
      "cell_type": "code",
      "metadata": {
        "id": "TUHJSoN5HnMw",
        "colab_type": "code",
        "outputId": "aaed6950-db1e-49df-9cb6-2ee9874630c2",
        "colab": {
          "base_uri": "https://localhost:8080/",
          "height": 240
        }
      },
      "source": [
        "#Looking at the numbers on the above graph\n",
        "Counter(df['issue_year'])\n"
      ],
      "execution_count": 0,
      "outputs": [
        {
          "output_type": "execute_result",
          "data": {
            "text/plain": [
              "Counter({2007: 603,\n",
              "         2008: 2393,\n",
              "         2009: 5281,\n",
              "         2010: 12537,\n",
              "         2011: 21721,\n",
              "         2012: 53367,\n",
              "         2013: 134814,\n",
              "         2014: 235629,\n",
              "         2015: 421095,\n",
              "         2016: 434407,\n",
              "         2017: 443579,\n",
              "         2018: 495242})"
            ]
          },
          "metadata": {
            "tags": []
          },
          "execution_count": 14
        }
      ]
    },
    {
      "cell_type": "code",
      "metadata": {
        "id": "SaIb-TsdHnM2",
        "colab_type": "code",
        "outputId": "cf2010d1-3588-466f-e0e6-feb1e83bb118",
        "colab": {
          "base_uri": "https://localhost:8080/",
          "height": 110
        }
      },
      "source": [
        "#Seeing how many different statuses there are\n",
        "df['loan_status'].unique()"
      ],
      "execution_count": 0,
      "outputs": [
        {
          "output_type": "execute_result",
          "data": {
            "text/plain": [
              "array(['Current', 'Fully Paid', 'Late (31-120 days)', 'In Grace Period',\n",
              "       'Charged Off', 'Late (16-30 days)', 'Default',\n",
              "       'Does not meet the credit policy. Status:Fully Paid',\n",
              "       'Does not meet the credit policy. Status:Charged Off'],\n",
              "      dtype=object)"
            ]
          },
          "metadata": {
            "tags": []
          },
          "execution_count": 15
        }
      ]
    },
    {
      "cell_type": "code",
      "metadata": {
        "id": "ZIwp-t0UHnM7",
        "colab_type": "code",
        "outputId": "f6f099ab-ca41-46ba-c534-22090b863217",
        "colab": {
          "base_uri": "https://localhost:8080/",
          "height": 203
        }
      },
      "source": [
        "#Seeing how many loans are in each status\n",
        "df['loan_status'].value_counts()"
      ],
      "execution_count": 0,
      "outputs": [
        {
          "output_type": "execute_result",
          "data": {
            "text/plain": [
              "Fully Paid                                             1041952\n",
              "Current                                                 919695\n",
              "Charged Off                                             261655\n",
              "Late (31-120 days)                                       21897\n",
              "In Grace Period                                           8952\n",
              "Late (16-30 days)                                         3737\n",
              "Does not meet the credit policy. Status:Fully Paid        1988\n",
              "Does not meet the credit policy. Status:Charged Off        761\n",
              "Default                                                     31\n",
              "Name: loan_status, dtype: int64"
            ]
          },
          "metadata": {
            "tags": []
          },
          "execution_count": 16
        }
      ]
    },
    {
      "cell_type": "markdown",
      "metadata": {
        "id": "11Y2reYZHnNC",
        "colab_type": "text"
      },
      "source": [
        "There are multiple categories that reasonably count as bad loans.  Charged Off a loan taken off the books due to no reasonable expectation of payment. https://help.lendingclub.com/hc/en-us/articles/216127747-What-is-the-difference-between-a-loan-that-is-in-default-and-a-loan-that-has-been-charged-off-\n",
        "\n",
        "The categories I will consider bad are Charged Off, Late(both 16-30 days and 31-120 days), default and \"Does not meet the credit policy. Status:Charged Off\"(I still don't know what credit policy the loan does not meet but I know enough to know any loan in this category is bad)."
      ]
    },
    {
      "cell_type": "code",
      "metadata": {
        "id": "7RM2fjJFHnNC",
        "colab_type": "code",
        "outputId": "4282bbe5-495f-4735-b3fc-1d6c300c665a",
        "colab": {
          "base_uri": "https://localhost:8080/",
          "height": 129
        }
      },
      "source": [
        "#Creating a new column to represent whether or not a status is good\n",
        "bad_statuses = ['Charged Off', 'Late (31-120 days)', 'Late (16-30 days)',\n",
        "               'Does not meet the credit policy. Status:Charged Off', 'Default']\n",
        "\n",
        "df['good_loan'] = 1\n",
        "\n",
        "df.loc[df['loan_status'].isin(bad_statuses), 'good_loan'] = 0\n",
        "df['good_loan'].head()"
      ],
      "execution_count": 0,
      "outputs": [
        {
          "output_type": "execute_result",
          "data": {
            "text/plain": [
              "0    1\n",
              "1    1\n",
              "2    1\n",
              "3    1\n",
              "4    1\n",
              "Name: good_loan, dtype: int64"
            ]
          },
          "metadata": {
            "tags": []
          },
          "execution_count": 17
        }
      ]
    },
    {
      "cell_type": "code",
      "metadata": {
        "id": "NdLWn00uHnNI",
        "colab_type": "code",
        "outputId": "89901c53-9edc-42b0-a576-0c9cd7d56d85",
        "colab": {
          "base_uri": "https://localhost:8080/",
          "height": 36
        }
      },
      "source": [
        "#Seeing how many loans are good or bad\n",
        "Counter(df['good_loan'])"
      ],
      "execution_count": 0,
      "outputs": [
        {
          "output_type": "execute_result",
          "data": {
            "text/plain": [
              "Counter({0: 288081, 1: 1972587})"
            ]
          },
          "metadata": {
            "tags": []
          },
          "execution_count": 18
        }
      ]
    },
    {
      "cell_type": "code",
      "metadata": {
        "id": "hcmwKBEMHnNM",
        "colab_type": "code",
        "outputId": "af5b65c6-3ba3-46e4-a1f7-a1af380c1d6c",
        "colab": {
          "base_uri": "https://localhost:8080/",
          "height": 54
        }
      },
      "source": [
        "#Checking the ratio of good to bad loans\n",
        "print(Counter(df['good_loan'])[0]/Counter(df['good_loan'])[1])\n",
        "print(\"The current percentage of bad loans is {}%\".format((Counter(df['good_loan'])[0]/Counter(df['good_loan'])[1]) * 100))"
      ],
      "execution_count": 0,
      "outputs": [
        {
          "output_type": "stream",
          "text": [
            "0.14604222779527595\n",
            "The current percentage of bad loans is 14.604222779527595%\n"
          ],
          "name": "stdout"
        }
      ]
    },
    {
      "cell_type": "markdown",
      "metadata": {
        "id": "oIKvg2fOHnNW",
        "colab_type": "text"
      },
      "source": [
        "I do not know if this makes Lending Club loans better or worse then the competition because I have no idea what results the competition is getting but at least there is a number to work with.  "
      ]
    },
    {
      "cell_type": "code",
      "metadata": {
        "id": "KY55HR10HnNX",
        "colab_type": "code",
        "outputId": "eab7ad3d-643b-4923-c337-5ecaed529295",
        "colab": {
          "base_uri": "https://localhost:8080/",
          "height": 303
        }
      },
      "source": [
        "#Making a count plot of good to bad loans by year\n",
        "sns.countplot('issue_year',hue = 'good_loan', data = df, palette = 'bright',)\n",
        "\n"
      ],
      "execution_count": 0,
      "outputs": [
        {
          "output_type": "execute_result",
          "data": {
            "text/plain": [
              "<matplotlib.axes._subplots.AxesSubplot at 0x7f2e543bef28>"
            ]
          },
          "metadata": {
            "tags": []
          },
          "execution_count": 20
        },
        {
          "output_type": "display_data",
          "data": {
            "image/png": "[encoded data removed]",
            "text/plain": [
              "<Figure size 432x288 with 1 Axes>"
            ]
          },
          "metadata": {
            "tags": []
          }
        }
      ]
    },
    {
      "cell_type": "code",
      "metadata": {
        "id": "g-d9bcHsHnNd",
        "colab_type": "code",
        "outputId": "a7dd28b5-7bc0-4845-ce5d-6d0571ab79a6",
        "colab": {
          "base_uri": "https://localhost:8080/",
          "height": 302
        }
      },
      "source": [
        "#Good to bad loans by grade\n",
        "sns.countplot('grade',hue = 'good_loan', data = df, palette = 'bright',\n",
        "              order = ['A', 'B', 'C', 'D', 'E', 'F', 'G'])\n",
        "\n"
      ],
      "execution_count": 0,
      "outputs": [
        {
          "output_type": "execute_result",
          "data": {
            "text/plain": [
              "<matplotlib.axes._subplots.AxesSubplot at 0x7f2e54287a90>"
            ]
          },
          "metadata": {
            "tags": []
          },
          "execution_count": 21
        },
        {
          "output_type": "display_data",
          "data": {
            "image/png": "[encoded data removed]",
            "text/plain": [
              "<Figure size 432x288 with 1 Axes>"
            ]
          },
          "metadata": {
            "tags": []
          }
        }
      ]
    },
    {
      "cell_type": "code",
      "metadata": {
        "id": "PiyuD52n2glE",
        "colab_type": "code",
        "colab": {}
      },
      "source": [
        "#Looking at loans by credit score\n",
        "f, ((ax1, ax2)) = plt.subplots(1,2)\n",
        "\n",
        "cmap = plt.cm.Spectral\n",
        "\n",
        "groupby_credit_rating = df.groupby(['issue_year', 'grade']).loan_amnt.mean()\n",
        "groupby_credit_rating.unstack().plot(legend = False, ax = ax1,figsize=(14,5), colormap = cmap)\n",
        "ax1.set_title(\"Loans by credit rating\")\n",
        "    \n",
        "\n",
        "interest_credit_rating = df.groupby(['issue_year', 'grade']).int_rate.mean()\n",
        "interest_credit_rating.unstack().plot(legend = False, ax = ax2, figsize=(14,5),colormap = cmap)\n",
        "ax2.set_title(\"Interest rates by credit score\")\n",
        "plt.grid(True)  \n",
        "\n",
        "ax2.legend(bbox_to_anchor=(-1.0, -0.3, 1.7, 0.1), loc=5, prop={'size':12},\n",
        "           ncol=7, mode=\"expand\", borderaxespad=0.)"
      ],
      "execution_count": 0,
      "outputs": []
    },
    {
      "cell_type": "code",
      "metadata": {
        "id": "B5lB6p7e2lpK",
        "colab_type": "code",
        "colab": {}
      },
      "source": [
        "ownership_boxplot = sns.boxplot(x = 'home_ownership', y ='loan_amnt', \n",
        "                     hue = 'good_loan', data = df, color = 'b')\n",
        "plt.figure(figsize = (30,20))\n",
        "plt.legend(['Bad', 'Good'])\n",
        "plt.show()"
      ],
      "execution_count": 0,
      "outputs": []
    },
    {
      "cell_type": "markdown",
      "metadata": {
        "id": "xgi-0OkNHnNh",
        "colab_type": "text"
      },
      "source": [
        "Next is feature selection. Here I am going to start looking to see what features have higher correlations and clean up the data more before the modeling starts. "
      ]
    },
    {
      "cell_type": "code",
      "metadata": {
        "id": "FCZ5rG-dHnNi",
        "colab_type": "code",
        "outputId": "22b2394d-7dc4-4484-a876-11045c883b2c",
        "colab": {
          "base_uri": "https://localhost:8080/",
          "height": 1171
        }
      },
      "source": [
        "corr = df.corr().loc[:, 'good_loan'].sort_values()\n",
        "\n",
        "print(corr)"
      ],
      "execution_count": 0,
      "outputs": [
        {
          "output_type": "stream",
          "text": [
            "recoveries                                   -0.490569\n",
            "collection_recovery_fee                      -0.465110\n",
            "hardship_dpd                                 -0.232085\n",
            "int_rate                                     -0.206668\n",
            "total_rec_late_fee                           -0.131513\n",
            "sec_app_inq_last_6mths                       -0.097421\n",
            "acc_open_past_24mths                         -0.094552\n",
            "inq_last_6mths                               -0.086853\n",
            "num_tl_op_past_12m                           -0.084050\n",
            "hardship_amount                              -0.083270\n",
            "open_rv_24m                                  -0.079876\n",
            "percent_bc_gt_75                             -0.074229\n",
            "inq_last_12m                                 -0.074013\n",
            "bc_util                                      -0.071613\n",
            "orig_projected_additional_accrued_interest   -0.070585\n",
            "all_util                                     -0.069046\n",
            "open_acc_6m                                  -0.067543\n",
            "open_rv_12m                                  -0.065152\n",
            "revol_util                                   -0.063878\n",
            "open_il_24m                                  -0.058842\n",
            "open_il_12m                                  -0.058639\n",
            "il_util                                      -0.056368\n",
            "sec_app_collections_12_mths_ex_med           -0.053838\n",
            "sec_app_revol_util                           -0.052956\n",
            "hardship_payoff_balance_amount               -0.051501\n",
            "num_actv_rev_tl                              -0.050837\n",
            "num_rev_tl_bal_gt_0                          -0.049704\n",
            "total_rec_int                                -0.049279\n",
            "hardship_last_payment_amount                 -0.048400\n",
            "dti_joint                                    -0.048073\n",
            "                                                ...   \n",
            "annual_inc                                    0.024018\n",
            "mths_since_rcnt_il                            0.031183\n",
            "mo_sin_old_rev_tl_op                          0.037338\n",
            "max_bal_bc                                    0.037592\n",
            "mort_acc                                      0.038490\n",
            "mths_since_recent_bc                          0.047760\n",
            "annual_inc_joint                              0.048382\n",
            "sec_app_mort_acc                              0.048746\n",
            "settlement_percentage                         0.053619\n",
            "tot_cur_bal                                   0.053761\n",
            "mo_sin_rcnt_rev_tl_op                         0.055413\n",
            "mo_sin_rcnt_tl                                0.055781\n",
            "total_rev_hi_lim                              0.057001\n",
            "avg_cur_bal                                   0.057845\n",
            "mths_since_recent_inq                         0.061342\n",
            "tot_hi_cred_lim                               0.063715\n",
            "sec_app_mths_since_last_major_derog           0.070943\n",
            "total_bc_limit                                0.075288\n",
            "bc_open_to_buy                                0.082387\n",
            "issue_year                                    0.132084\n",
            "total_pymnt                                   0.137158\n",
            "total_pymnt_inv                               0.137203\n",
            "out_prncp_inv                                 0.174656\n",
            "out_prncp                                     0.174673\n",
            "last_pymnt_amnt                               0.184790\n",
            "total_rec_prncp                               0.222189\n",
            "good_loan                                     1.000000\n",
            "policy_code                                        NaN\n",
            "deferral_term                                      NaN\n",
            "hardship_length                                    NaN\n",
            "Name: good_loan, Length: 108, dtype: float64\n"
          ],
          "name": "stdout"
        }
      ]
    },
    {
      "cell_type": "code",
      "metadata": {
        "id": "2gzYvRn5HnNq",
        "colab_type": "code",
        "outputId": "9c69f095-d9a5-4ded-84fc-e667ad521f42",
        "colab": {
          "base_uri": "https://localhost:8080/",
          "height": 110
        }
      },
      "source": [
        "#Removing all columns that are objects\n",
        "df.columns[df.columns.str.isnumeric()]\n",
        "df = df.select_dtypes(exclude = ['object'])  \n",
        "df.info()"
      ],
      "execution_count": 0,
      "outputs": [
        {
          "output_type": "stream",
          "text": [
            "<class 'pandas.core.frame.DataFrame'>\n",
            "RangeIndex: 2260668 entries, 0 to 2260667\n",
            "Columns: 108 entries, loan_amnt to good_loan\n",
            "dtypes: float64(102), int64(6)\n",
            "memory usage: 1.8 GB\n"
          ],
          "name": "stdout"
        }
      ]
    },
    {
      "cell_type": "code",
      "metadata": {
        "id": "wthuL8tOHnNv",
        "colab_type": "code",
        "colab": {}
      },
      "source": [
        "#Making an array out of the columns sorted by amount of NA values\n",
        "na_array = df.isna().sum().sort_values(ascending = False)"
      ],
      "execution_count": 0,
      "outputs": []
    },
    {
      "cell_type": "code",
      "metadata": {
        "id": "tgN63mQRHnNy",
        "colab_type": "code",
        "outputId": "33d607b1-999b-4799-ddbc-c40de7598128",
        "colab": {
          "base_uri": "https://localhost:8080/",
          "height": 1339
        }
      },
      "source": [
        "#Using the above array as a list to then remove the columns with the most NA values\n",
        "na_list = na_array.index\n",
        "\n",
        "df = df.drop(na_list[:42], axis = 1)\n",
        "df.info()"
      ],
      "execution_count": 0,
      "outputs": [
        {
          "output_type": "stream",
          "text": [
            "<class 'pandas.core.frame.DataFrame'>\n",
            "RangeIndex: 2260668 entries, 0 to 2260667\n",
            "Data columns (total 66 columns):\n",
            "loan_amnt                     int64\n",
            "funded_amnt                   int64\n",
            "funded_amnt_inv               float64\n",
            "int_rate                      float64\n",
            "installment                   float64\n",
            "annual_inc                    float64\n",
            "dti                           float64\n",
            "delinq_2yrs                   float64\n",
            "inq_last_6mths                float64\n",
            "open_acc                      float64\n",
            "pub_rec                       float64\n",
            "revol_bal                     int64\n",
            "revol_util                    float64\n",
            "total_acc                     float64\n",
            "out_prncp                     float64\n",
            "out_prncp_inv                 float64\n",
            "total_pymnt                   float64\n",
            "total_pymnt_inv               float64\n",
            "total_rec_prncp               float64\n",
            "total_rec_int                 float64\n",
            "total_rec_late_fee            float64\n",
            "recoveries                    float64\n",
            "collection_recovery_fee       float64\n",
            "last_pymnt_amnt               float64\n",
            "collections_12_mths_ex_med    float64\n",
            "policy_code                   int64\n",
            "acc_now_delinq                float64\n",
            "tot_coll_amt                  float64\n",
            "tot_cur_bal                   float64\n",
            "total_rev_hi_lim              float64\n",
            "acc_open_past_24mths          float64\n",
            "avg_cur_bal                   float64\n",
            "bc_open_to_buy                float64\n",
            "bc_util                       float64\n",
            "chargeoff_within_12_mths      float64\n",
            "delinq_amnt                   float64\n",
            "mo_sin_old_il_acct            float64\n",
            "mo_sin_old_rev_tl_op          float64\n",
            "mo_sin_rcnt_rev_tl_op         float64\n",
            "mo_sin_rcnt_tl                float64\n",
            "mort_acc                      float64\n",
            "mths_since_recent_bc          float64\n",
            "num_accts_ever_120_pd         float64\n",
            "num_actv_bc_tl                float64\n",
            "num_actv_rev_tl               float64\n",
            "num_bc_sats                   float64\n",
            "num_bc_tl                     float64\n",
            "num_il_tl                     float64\n",
            "num_op_rev_tl                 float64\n",
            "num_rev_accts                 float64\n",
            "num_rev_tl_bal_gt_0           float64\n",
            "num_sats                      float64\n",
            "num_tl_120dpd_2m              float64\n",
            "num_tl_30dpd                  float64\n",
            "num_tl_90g_dpd_24m            float64\n",
            "num_tl_op_past_12m            float64\n",
            "pct_tl_nvr_dlq                float64\n",
            "percent_bc_gt_75              float64\n",
            "pub_rec_bankruptcies          float64\n",
            "tax_liens                     float64\n",
            "tot_hi_cred_lim               float64\n",
            "total_bal_ex_mort             float64\n",
            "total_bc_limit                float64\n",
            "total_il_high_credit_limit    float64\n",
            "issue_year                    int64\n",
            "good_loan                     int64\n",
            "dtypes: float64(60), int64(6)\n",
            "memory usage: 1.1 GB\n"
          ],
          "name": "stdout"
        }
      ]
    },
    {
      "cell_type": "code",
      "metadata": {
        "id": "b6NX4koQHnN1",
        "colab_type": "code",
        "outputId": "648f139d-85c3-4a08-f971-df9345bec192",
        "colab": {
          "base_uri": "https://localhost:8080/",
          "height": 1171
        }
      },
      "source": [
        "df.isna().sum().sort_values(ascending = False)"
      ],
      "execution_count": 0,
      "outputs": [
        {
          "output_type": "execute_result",
          "data": {
            "text/plain": [
              "num_tl_120dpd_2m              153657\n",
              "mo_sin_old_il_acct            139071\n",
              "bc_util                        76071\n",
              "percent_bc_gt_75               75379\n",
              "bc_open_to_buy                 74935\n",
              "mths_since_recent_bc           73412\n",
              "pct_tl_nvr_dlq                 70431\n",
              "avg_cur_bal                    70346\n",
              "mo_sin_old_rev_tl_op           70277\n",
              "mo_sin_rcnt_rev_tl_op          70277\n",
              "num_rev_accts                  70277\n",
              "total_rev_hi_lim               70276\n",
              "num_bc_tl                      70276\n",
              "tot_cur_bal                    70276\n",
              "tot_coll_amt                   70276\n",
              "num_accts_ever_120_pd          70276\n",
              "num_actv_bc_tl                 70276\n",
              "num_actv_rev_tl                70276\n",
              "mo_sin_rcnt_tl                 70276\n",
              "num_il_tl                      70276\n",
              "tot_hi_cred_lim                70276\n",
              "num_op_rev_tl                  70276\n",
              "num_rev_tl_bal_gt_0            70276\n",
              "num_tl_30dpd                   70276\n",
              "total_il_high_credit_limit     70276\n",
              "num_tl_90g_dpd_24m             70276\n",
              "num_tl_op_past_12m             70276\n",
              "num_sats                       58590\n",
              "num_bc_sats                    58590\n",
              "total_bc_limit                 50030\n",
              "                               ...  \n",
              "chargeoff_within_12_mths         145\n",
              "collections_12_mths_ex_med       145\n",
              "tax_liens                        105\n",
              "inq_last_6mths                    30\n",
              "acc_now_delinq                    29\n",
              "total_acc                         29\n",
              "delinq_amnt                       29\n",
              "delinq_2yrs                       29\n",
              "open_acc                          29\n",
              "pub_rec                           29\n",
              "annual_inc                         4\n",
              "funded_amnt_inv                    0\n",
              "funded_amnt                        0\n",
              "installment                        0\n",
              "revol_bal                          0\n",
              "int_rate                           0\n",
              "good_loan                          0\n",
              "out_prncp                          0\n",
              "out_prncp_inv                      0\n",
              "total_pymnt                        0\n",
              "total_pymnt_inv                    0\n",
              "total_rec_prncp                    0\n",
              "total_rec_int                      0\n",
              "total_rec_late_fee                 0\n",
              "recoveries                         0\n",
              "collection_recovery_fee            0\n",
              "last_pymnt_amnt                    0\n",
              "policy_code                        0\n",
              "issue_year                         0\n",
              "loan_amnt                          0\n",
              "Length: 66, dtype: int64"
            ]
          },
          "metadata": {
            "tags": []
          },
          "execution_count": 26
        }
      ]
    },
    {
      "cell_type": "code",
      "metadata": {
        "id": "nx7swSP8HnN4",
        "colab_type": "code",
        "outputId": "2e6eb94b-3496-487a-87a3-cddaad72b84d",
        "colab": {
          "base_uri": "https://localhost:8080/",
          "height": 1339
        }
      },
      "source": [
        "df = df.dropna()\n",
        "df.info()\n",
        " "
      ],
      "execution_count": 0,
      "outputs": [
        {
          "output_type": "stream",
          "text": [
            "<class 'pandas.core.frame.DataFrame'>\n",
            "Int64Index: 2013799 entries, 0 to 2260666\n",
            "Data columns (total 66 columns):\n",
            "loan_amnt                     int64\n",
            "funded_amnt                   int64\n",
            "funded_amnt_inv               float64\n",
            "int_rate                      float64\n",
            "installment                   float64\n",
            "annual_inc                    float64\n",
            "dti                           float64\n",
            "delinq_2yrs                   float64\n",
            "inq_last_6mths                float64\n",
            "open_acc                      float64\n",
            "pub_rec                       float64\n",
            "revol_bal                     int64\n",
            "revol_util                    float64\n",
            "total_acc                     float64\n",
            "out_prncp                     float64\n",
            "out_prncp_inv                 float64\n",
            "total_pymnt                   float64\n",
            "total_pymnt_inv               float64\n",
            "total_rec_prncp               float64\n",
            "total_rec_int                 float64\n",
            "total_rec_late_fee            float64\n",
            "recoveries                    float64\n",
            "collection_recovery_fee       float64\n",
            "last_pymnt_amnt               float64\n",
            "collections_12_mths_ex_med    float64\n",
            "policy_code                   int64\n",
            "acc_now_delinq                float64\n",
            "tot_coll_amt                  float64\n",
            "tot_cur_bal                   float64\n",
            "total_rev_hi_lim              float64\n",
            "acc_open_past_24mths          float64\n",
            "avg_cur_bal                   float64\n",
            "bc_open_to_buy                float64\n",
            "bc_util                       float64\n",
            "chargeoff_within_12_mths      float64\n",
            "delinq_amnt                   float64\n",
            "mo_sin_old_il_acct            float64\n",
            "mo_sin_old_rev_tl_op          float64\n",
            "mo_sin_rcnt_rev_tl_op         float64\n",
            "mo_sin_rcnt_tl                float64\n",
            "mort_acc                      float64\n",
            "mths_since_recent_bc          float64\n",
            "num_accts_ever_120_pd         float64\n",
            "num_actv_bc_tl                float64\n",
            "num_actv_rev_tl               float64\n",
            "num_bc_sats                   float64\n",
            "num_bc_tl                     float64\n",
            "num_il_tl                     float64\n",
            "num_op_rev_tl                 float64\n",
            "num_rev_accts                 float64\n",
            "num_rev_tl_bal_gt_0           float64\n",
            "num_sats                      float64\n",
            "num_tl_120dpd_2m              float64\n",
            "num_tl_30dpd                  float64\n",
            "num_tl_90g_dpd_24m            float64\n",
            "num_tl_op_past_12m            float64\n",
            "pct_tl_nvr_dlq                float64\n",
            "percent_bc_gt_75              float64\n",
            "pub_rec_bankruptcies          float64\n",
            "tax_liens                     float64\n",
            "tot_hi_cred_lim               float64\n",
            "total_bal_ex_mort             float64\n",
            "total_bc_limit                float64\n",
            "total_il_high_credit_limit    float64\n",
            "issue_year                    int64\n",
            "good_loan                     int64\n",
            "dtypes: float64(60), int64(6)\n",
            "memory usage: 1.0 GB\n"
          ],
          "name": "stdout"
        }
      ]
    },
    {
      "cell_type": "markdown",
      "metadata": {
        "id": "IFkmK9NtHdlu",
        "colab_type": "text"
      },
      "source": [
        "Due to how imbalanced the target variable is I am going to do a random undersampling of the target to create more balanced training data. When I previously attempted oversampling I created a dataframe with over 3 million columns.  This is well beyond what my computer is able to currently handle and I was unable to make it work well with Google Colab's free service."
      ]
    },
    {
      "cell_type": "code",
      "metadata": {
        "id": "XDHOXAWiHnN-",
        "colab_type": "code",
        "outputId": "ba787cb1-6b74-4b69-8cbf-5247cec788c1",
        "colab": {
          "base_uri": "https://localhost:8080/",
          "height": 74
        }
      },
      "source": [
        "#Undersampling for balance\n",
        "from imblearn.under_sampling import RandomUnderSampler\n",
        "rus = RandomUnderSampler(random_state = 42)"
      ],
      "execution_count": 0,
      "outputs": [
        {
          "output_type": "stream",
          "text": [
            "/usr/local/lib/python3.6/dist-packages/sklearn/externals/six.py:31: DeprecationWarning: The module is deprecated in version 0.21 and will be removed in version 0.23 since we've dropped support for Python 2.7. Please rely on the official version of six (https://pypi.org/project/six/).\n",
            "  \"(https://pypi.org/project/six/).\", DeprecationWarning)\n"
          ],
          "name": "stderr"
        }
      ]
    },
    {
      "cell_type": "code",
      "metadata": {
        "id": "A3pOzLXuHnOC",
        "colab_type": "code",
        "outputId": "b966370c-a71a-4a95-e395-be714f65e41f",
        "colab": {
          "base_uri": "https://localhost:8080/",
          "height": 54
        }
      },
      "source": [
        "from sklearn.model_selection import train_test_split\n",
        "X = df.drop(['good_loan'], axis = 1)\n",
        "y = df['good_loan']\n",
        "X_train, X_test, y_train, y_test = train_test_split(X, y, test_size = .2 )\n",
        "\n",
        "X_resampled, y_resampled = rus.fit_resample(X_train, y_train)\n",
        "print(X_resampled.shape)\n",
        "print(y_resampled.shape)\n"
      ],
      "execution_count": 0,
      "outputs": [
        {
          "output_type": "stream",
          "text": [
            "(399796, 65)\n",
            "(399796,)\n"
          ],
          "name": "stdout"
        }
      ]
    },
    {
      "cell_type": "code",
      "metadata": {
        "id": "O0SrcJUnHnOF",
        "colab_type": "code",
        "outputId": "9a9cdba0-8145-4073-f6c5-3f5b8a11600d",
        "colab": {
          "base_uri": "https://localhost:8080/",
          "height": 36
        }
      },
      "source": [
        "print(y.shape)"
      ],
      "execution_count": 0,
      "outputs": [
        {
          "output_type": "stream",
          "text": [
            "(2013799,)\n"
          ],
          "name": "stdout"
        }
      ]
    },
    {
      "cell_type": "code",
      "metadata": {
        "id": "I0UBdweJHnOI",
        "colab_type": "code",
        "colab": {}
      },
      "source": [
        "#Removing some variables to save memory\n",
        "del df\n",
        "del X"
      ],
      "execution_count": 0,
      "outputs": []
    },
    {
      "cell_type": "markdown",
      "metadata": {
        "id": "EnFpTKUOKMpz",
        "colab_type": "text"
      },
      "source": [
        "## Modeling\n",
        "Here is where the model fitting begins"
      ]
    },
    {
      "cell_type": "code",
      "metadata": {
        "id": "tTYN0MRL7-ua",
        "colab_type": "code",
        "colab": {}
      },
      "source": [
        "#The modeling starts here\n",
        "\n",
        "from sklearn.ensemble import RandomForestClassifier"
      ],
      "execution_count": 0,
      "outputs": []
    },
    {
      "cell_type": "code",
      "metadata": {
        "id": "-B8jQfi5HnOM",
        "colab_type": "code",
        "outputId": "c3bee1b9-c904-47b4-a0b2-6999188fc8a6",
        "colab": {
          "base_uri": "https://localhost:8080/",
          "height": 147
        }
      },
      "source": [
        "\n",
        "rfc = RandomForestClassifier(n_estimators = 100, n_jobs = 5)\n",
        "\n",
        "rfc.fit(X_resampled, y_resampled)"
      ],
      "execution_count": 0,
      "outputs": [
        {
          "output_type": "execute_result",
          "data": {
            "text/plain": [
              "RandomForestClassifier(bootstrap=True, class_weight=None, criterion='gini',\n",
              "                       max_depth=None, max_features='auto', max_leaf_nodes=None,\n",
              "                       min_impurity_decrease=0.0, min_impurity_split=None,\n",
              "                       min_samples_leaf=1, min_samples_split=2,\n",
              "                       min_weight_fraction_leaf=0.0, n_estimators=100, n_jobs=5,\n",
              "                       oob_score=False, random_state=None, verbose=0,\n",
              "                       warm_start=False)"
            ]
          },
          "metadata": {
            "tags": []
          },
          "execution_count": 35
        }
      ]
    },
    {
      "cell_type": "code",
      "metadata": {
        "id": "yTKsCGI5HnOS",
        "colab_type": "code",
        "colab": {}
      },
      "source": [
        "y_pred = rfc.predict(X_test)"
      ],
      "execution_count": 0,
      "outputs": []
    },
    {
      "cell_type": "code",
      "metadata": {
        "id": "fhW51XoX8V9H",
        "colab_type": "code",
        "outputId": "d3f73586-9c51-44d1-fd0a-85a591aea779",
        "colab": {
          "base_uri": "https://localhost:8080/",
          "height": 147
        }
      },
      "source": [
        "%timeit\n",
        "from sklearn import metrics\n",
        "from sklearn.metrics import confusion_matrix\n",
        "conf_matrix = confusion_matrix(y_test, y_pred)\n",
        "print(conf_matrix)\n",
        "\n",
        "print(\"Misclassification Rate: \" + \n",
        "      str(((conf_matrix[0][1] + conf_matrix[1][0]) / conf_matrix.sum())*100 ) +'%')\n",
        "print(\"True positive rate: \" + \n",
        "      str((conf_matrix[1][1] / (conf_matrix[1].sum()))*100 ) +'%')\n",
        "print(\"False positive rate: \" +\n",
        "     str((conf_matrix[0][1] / (conf_matrix[0].sum()))*100 ) +'%')\n",
        "print(\"True negative rate: \"+\n",
        "     str((conf_matrix[0][0] / (conf_matrix[0].sum()))*100 ) +'%')\n",
        "\n",
        "print(\"Accuracy:\", metrics.accuracy_score(y_test, y_pred))"
      ],
      "execution_count": 0,
      "outputs": [
        {
          "output_type": "stream",
          "text": [
            "[[ 46902   3598]\n",
            " [  3033 349227]]\n",
            "Misclassification Rate: 1.6463899096235972%\n",
            "True positive rate: 99.13898824731733%\n",
            "False positive rate: 7.124752475247524%\n",
            "True negative rate: 92.87524752475248%\n",
            "Accuracy: 0.983536100903764\n"
          ],
          "name": "stdout"
        }
      ]
    },
    {
      "cell_type": "code",
      "metadata": {
        "id": "UUwXJSu5_mIn",
        "colab_type": "code",
        "outputId": "49e78a88-6772-4a26-e82e-2f1bf90d2b7f",
        "colab": {
          "base_uri": "https://localhost:8080/",
          "height": 185
        }
      },
      "source": [
        "print(metrics.classification_report(y_test, y_pred))"
      ],
      "execution_count": 0,
      "outputs": [
        {
          "output_type": "stream",
          "text": [
            "              precision    recall  f1-score   support\n",
            "\n",
            "           0       0.94      0.93      0.93     50500\n",
            "           1       0.99      0.99      0.99    352260\n",
            "\n",
            "    accuracy                           0.98    402760\n",
            "   macro avg       0.96      0.96      0.96    402760\n",
            "weighted avg       0.98      0.98      0.98    402760\n",
            "\n"
          ],
          "name": "stdout"
        }
      ]
    },
    {
      "cell_type": "code",
      "metadata": {
        "id": "mcIE3JXnXrGP",
        "colab_type": "code",
        "colab": {}
      },
      "source": [
        "#Making a second rfc model\n",
        "\n",
        "\n",
        "\n",
        "rfc2 = RandomForestClassifier(n_estimators = 100, n_jobs = -1, max_depth = 80,min_samples_leaf = 4)\n",
        "\n",
        "rfc2.fit(X_resampled, y_resampled)\n",
        "rfc2_y_pred = rfc2.predict(X_test)\n"
      ],
      "execution_count": 0,
      "outputs": []
    },
    {
      "cell_type": "code",
      "metadata": {
        "id": "gvwSUCrK9n52",
        "colab_type": "code",
        "outputId": "2b05af3f-baf2-414f-8c8e-48ddd24beb75",
        "colab": {
          "base_uri": "https://localhost:8080/",
          "height": 240
        }
      },
      "source": [
        "print(metrics.accuracy_score(y_test, rfc2_y_pred))\n",
        "print(metrics.classification_report(y_test, rfc2_y_pred))\n",
        "print(confusion_matrix(y_test, rfc2_y_pred))"
      ],
      "execution_count": 0,
      "outputs": [
        {
          "output_type": "stream",
          "text": [
            "0.9838241136160493\n",
            "              precision    recall  f1-score   support\n",
            "\n",
            "           0       0.94      0.93      0.93     50500\n",
            "           1       0.99      0.99      0.99    352260\n",
            "\n",
            "    accuracy                           0.98    402760\n",
            "   macro avg       0.97      0.96      0.96    402760\n",
            "weighted avg       0.98      0.98      0.98    402760\n",
            "\n",
            "[[ 46836   3664]\n",
            " [  2851 349409]]\n"
          ],
          "name": "stdout"
        }
      ]
    },
    {
      "cell_type": "markdown",
      "metadata": {
        "id": "7ArV4Egt_tcp",
        "colab_type": "text"
      },
      "source": [
        "Very similiar results between the two random forest models. But the first one had fewer type 1 errors. "
      ]
    },
    {
      "cell_type": "markdown",
      "metadata": {
        "id": "5WW6RhF_HnPD",
        "colab_type": "text"
      },
      "source": [
        "## Gradient Boosted Models\n",
        "Here are some gradient boosted models. The for loop two cells below tested different models with different learning rates. "
      ]
    },
    {
      "cell_type": "code",
      "metadata": {
        "id": "dDs_gShSHnPE",
        "colab_type": "code",
        "colab": {}
      },
      "source": [
        "from sklearn.ensemble import GradientBoostingClassifier\n",
        "from sklearn.metrics import classification_report, roc_curve, auc"
      ],
      "execution_count": 0,
      "outputs": []
    },
    {
      "cell_type": "code",
      "metadata": {
        "id": "i4V5gO78HnPJ",
        "colab_type": "code",
        "outputId": "de1c27dc-83eb-4491-ca16-db30f4bf75c3",
        "colab": {
          "base_uri": "https://localhost:8080/",
          "height": 56
        }
      },
      "source": [
        "\n",
        "learning_rates = [.05, .1, .25, .5, .75, 1]\n",
        "\n",
        "for learning_rate in learning_rates:\n",
        "    gb = GradientBoostingClassifier(n_estimators = 20, learning_rate = learning_rate, random_state = 0)\n",
        "    gb.fit(X_train, y_train)\n",
        "    print(\"Learning rate: \", learning_rate)\n",
        "    print(\"Accuracy score (training): {0:.3f}\".format(gb.score(X_train, y_train)))\n",
        "    print(\"Accuracy score (test): {0:.3f}\".format(gb.score(X_test, y_test)))\n",
        "    print()\n",
        "#Best score on the test set is with learning rate .75\n"
      ],
      "execution_count": 0,
      "outputs": [
        {
          "output_type": "execute_result",
          "data": {
            "text/plain": [
              "'\\nlearning_rates = [.05, .1, .25, .5, .75, 1]\\n\\nfor learning_rate in learning_rates:\\n    gb = GradientBoostingClassifier(n_estimators = 20, learning_rate = learning_rate, random_state = 0)\\n    gb.fit(X_train, y_train)\\n    print(\"Learning rate: \", learning_rate)\\n    print(\"Accuracy score (training): {0:.3f}\".format(gb.score(X_train, y_train)))\\n    print(\"Accuracy score (test): {0:.3f}\".format(gb.score(X_test, y_test)))\\n    print()\\n#Best score on the test set is with learning rate .75\\n'"
            ]
          },
          "metadata": {
            "tags": []
          },
          "execution_count": 47
        }
      ]
    },
    {
      "cell_type": "markdown",
      "metadata": {
        "id": "u8GLxSukFrD1",
        "colab_type": "text"
      },
      "source": [
        "The best test scores come from a learning rate of 1 and .75"
      ]
    },
    {
      "cell_type": "code",
      "metadata": {
        "id": "atGGXHpDHnPL",
        "colab_type": "code",
        "outputId": "9575cb05-134b-40be-eef4-a4e1af5ac644",
        "colab": {
          "base_uri": "https://localhost:8080/",
          "height": 203
        }
      },
      "source": [
        "gb = GradientBoostingClassifier(n_estimators = 20, learning_rate = .75, random_state = 0)\n",
        "gb.fit(X_train, y_train)"
      ],
      "execution_count": 0,
      "outputs": [
        {
          "output_type": "execute_result",
          "data": {
            "text/plain": [
              "GradientBoostingClassifier(criterion='friedman_mse', init=None,\n",
              "                           learning_rate=0.75, loss='deviance', max_depth=3,\n",
              "                           max_features=None, max_leaf_nodes=None,\n",
              "                           min_impurity_decrease=0.0, min_impurity_split=None,\n",
              "                           min_samples_leaf=1, min_samples_split=2,\n",
              "                           min_weight_fraction_leaf=0.0, n_estimators=20,\n",
              "                           n_iter_no_change=None, presort='auto',\n",
              "                           random_state=0, subsample=1.0, tol=0.0001,\n",
              "                           validation_fraction=0.1, verbose=0,\n",
              "                           warm_start=False)"
            ]
          },
          "metadata": {
            "tags": []
          },
          "execution_count": 48
        }
      ]
    },
    {
      "cell_type": "code",
      "metadata": {
        "id": "QSMf_cK6HnPO",
        "colab_type": "code",
        "outputId": "f16f42e5-19a7-48db-fbbb-1766445020cf",
        "colab": {
          "base_uri": "https://localhost:8080/",
          "height": 36
        }
      },
      "source": [
        "from sklearn.metrics import accuracy_score\n",
        "gb_predictions = gb.predict(X_test)\n",
        "gb_accuracy = accuracy_score(y_test, gb_predictions)\n",
        "print(\"Accuracy: \" + str(gb_accuracy * 100) + \"%\")"
      ],
      "execution_count": 0,
      "outputs": [
        {
          "output_type": "stream",
          "text": [
            "Accuracy: 98.54479094249677%\n"
          ],
          "name": "stdout"
        }
      ]
    },
    {
      "cell_type": "code",
      "metadata": {
        "id": "BMEGPQLMHnPP",
        "colab_type": "code",
        "outputId": "8f84bbb5-80c4-4e58-c235-097dc5b5966e",
        "colab": {
          "base_uri": "https://localhost:8080/",
          "height": 129
        }
      },
      "source": [
        "gb_conf_matrix = confusion_matrix(y_test, gb_predictions)\n",
        "print(\"Misclassification Rate: \" + \n",
        "      str(((gb_conf_matrix[0][1] + gb_conf_matrix[1][0]) / gb_conf_matrix.sum())*100 ) +'%')\n",
        "print(\"True positive rate: \" + \n",
        "      str((gb_conf_matrix[1][1] / (gb_conf_matrix[1].sum()))*100 ) +'%')\n",
        "print(\"False positive rate: \" +\n",
        "     str((gb_conf_matrix[0][1] / (gb_conf_matrix[0].sum()))*100 ) +'%')\n",
        "print(\"True negative rate: \"+\n",
        "     str((gb_conf_matrix[0][0] / (gb_conf_matrix[0].sum()))*100 ) +'%')\n",
        "print(gb_conf_matrix)"
      ],
      "execution_count": 0,
      "outputs": [
        {
          "output_type": "stream",
          "text": [
            "Misclassification Rate: 1.4552090575032277%\n",
            "True positive rate: 99.94152046783626%\n",
            "False positive rate: 11.198019801980198%\n",
            "True negative rate: 88.8019801980198%\n",
            "[[ 44845   5655]\n",
            " [   206 352054]]\n"
          ],
          "name": "stdout"
        }
      ]
    },
    {
      "cell_type": "code",
      "metadata": {
        "id": "w0FZoxa-APPA",
        "colab_type": "code",
        "outputId": "005caa7e-348e-4076-9047-2ada0487ddae",
        "colab": {
          "base_uri": "https://localhost:8080/",
          "height": 185
        }
      },
      "source": [
        "print(metrics.classification_report(y_test, gb_predictions))"
      ],
      "execution_count": 0,
      "outputs": [
        {
          "output_type": "stream",
          "text": [
            "              precision    recall  f1-score   support\n",
            "\n",
            "           0       1.00      0.89      0.94     50500\n",
            "           1       0.98      1.00      0.99    352260\n",
            "\n",
            "    accuracy                           0.99    402760\n",
            "   macro avg       0.99      0.94      0.97    402760\n",
            "weighted avg       0.99      0.99      0.99    402760\n",
            "\n"
          ],
          "name": "stdout"
        }
      ]
    },
    {
      "cell_type": "markdown",
      "metadata": {
        "id": "k31xVYVlHnPR",
        "colab_type": "text"
      },
      "source": [
        "Random forest still looks the best.  The recall is where this model is noticably worse then the first random forest. For this project recall is the most important result. \n"
      ]
    },
    {
      "cell_type": "code",
      "metadata": {
        "id": "yf-q-RdoHnPS",
        "colab_type": "code",
        "colab": {}
      },
      "source": [
        "from xgboost import XGBClassifier"
      ],
      "execution_count": 0,
      "outputs": []
    },
    {
      "cell_type": "code",
      "metadata": {
        "id": "rfPDH1R4HnPV",
        "colab_type": "code",
        "outputId": "835cabbd-04a2-4790-ca3f-23e10c168674",
        "colab": {
          "base_uri": "https://localhost:8080/",
          "height": 147
        }
      },
      "source": [
        "XGB_model = XGBClassifier()\n",
        "XGB_model.fit(X_train, y_train)"
      ],
      "execution_count": 0,
      "outputs": [
        {
          "output_type": "execute_result",
          "data": {
            "text/plain": [
              "XGBClassifier(base_score=0.5, booster='gbtree', colsample_bylevel=1,\n",
              "              colsample_bynode=1, colsample_bytree=1, gamma=0,\n",
              "              learning_rate=0.1, max_delta_step=0, max_depth=3,\n",
              "              min_child_weight=1, missing=None, n_estimators=100, n_jobs=1,\n",
              "              nthread=None, objective='binary:logistic', random_state=0,\n",
              "              reg_alpha=0, reg_lambda=1, scale_pos_weight=1, seed=None,\n",
              "              silent=None, subsample=1, verbosity=1)"
            ]
          },
          "metadata": {
            "tags": []
          },
          "execution_count": 53
        }
      ]
    },
    {
      "cell_type": "code",
      "metadata": {
        "id": "RXQGMFcMHnPX",
        "colab_type": "code",
        "outputId": "6b5d7a00-6a4d-4000-8b8e-23bf86f8c47d",
        "colab": {
          "base_uri": "https://localhost:8080/",
          "height": 36
        }
      },
      "source": [
        "XGB_y_pred = XGB_model.predict(X_test)\n",
        "XGB_predictions = [round(value) for value in XGB_y_pred]\n",
        "\n",
        "accuracy = accuracy_score(y_test, XGB_predictions)\n",
        "print(\"Accuracy: \" + str(accuracy * 100) + \"%\")"
      ],
      "execution_count": 0,
      "outputs": [
        {
          "output_type": "stream",
          "text": [
            "Accuracy: 98.36974873373721%\n"
          ],
          "name": "stdout"
        }
      ]
    },
    {
      "cell_type": "code",
      "metadata": {
        "id": "1-etbGmhHnPa",
        "colab_type": "code",
        "outputId": "fc77f581-505e-4c94-c0be-51292446d8ed",
        "colab": {
          "base_uri": "https://localhost:8080/",
          "height": 129
        }
      },
      "source": [
        "XGB_conf_matrix = confusion_matrix(y_test, XGB_y_pred)\n",
        "print(\"Misclassification Rate: \" + \n",
        "      str(((XGB_conf_matrix[0][1] + XGB_conf_matrix[1][0]) / XGB_conf_matrix.sum())*100 ) +'%')\n",
        "print(\"True positive rate: \" + \n",
        "      str((XGB_conf_matrix[1][1] / (XGB_conf_matrix[1].sum()))*100 ) +'%')\n",
        "print(\"False positive rate: \" +\n",
        "     str((XGB_conf_matrix[0][1] / (XGB_conf_matrix[0].sum()))*100 ) +'%')\n",
        "print(\"True negative rate: \"+\n",
        "     str((XGB_conf_matrix[0][0] / (XGB_conf_matrix[0].sum()))*100 ) +'%')\n",
        "print(XGB_conf_matrix)"
      ],
      "execution_count": 0,
      "outputs": [
        {
          "output_type": "stream",
          "text": [
            "Misclassification Rate: 1.6302512662627868%\n",
            "True positive rate: 99.99858059387951%\n",
            "False positive rate: 12.992079207920792%\n",
            "True negative rate: 87.0079207920792%\n",
            "[[ 43939   6561]\n",
            " [     5 352255]]\n"
          ],
          "name": "stdout"
        }
      ]
    },
    {
      "cell_type": "code",
      "metadata": {
        "id": "sG3eVD9iAdUH",
        "colab_type": "code",
        "outputId": "ac84749a-2a7d-4ce1-aa5d-47fcfacdbb93",
        "colab": {
          "base_uri": "https://localhost:8080/",
          "height": 185
        }
      },
      "source": [
        "print(metrics.classification_report(y_test, XGB_predictions))"
      ],
      "execution_count": 0,
      "outputs": [
        {
          "output_type": "stream",
          "text": [
            "              precision    recall  f1-score   support\n",
            "\n",
            "           0       1.00      0.87      0.93     50500\n",
            "           1       0.98      1.00      0.99    352260\n",
            "\n",
            "    accuracy                           0.98    402760\n",
            "   macro avg       0.99      0.94      0.96    402760\n",
            "weighted avg       0.98      0.98      0.98    402760\n",
            "\n"
          ],
          "name": "stdout"
        }
      ]
    },
    {
      "cell_type": "markdown",
      "metadata": {
        "id": "pehgX_rLHnPb",
        "colab_type": "text"
      },
      "source": [
        "Even worse recall and false positive rate then the other models. Second worst model of all the ones tried so far with the worst being the Gaussian. "
      ]
    },
    {
      "cell_type": "code",
      "metadata": {
        "id": "zkTPD9dqHnPc",
        "colab_type": "code",
        "outputId": "7fa3302b-a860-46eb-ed05-36871ae32a22",
        "colab": {
          "base_uri": "https://localhost:8080/",
          "height": 36
        }
      },
      "source": [
        "from sklearn.naive_bayes import GaussianNB\n",
        "\n",
        "gaussian_model = GaussianNB()\n",
        "\n",
        "gaussian_model.fit(X_train, y_train)"
      ],
      "execution_count": 0,
      "outputs": [
        {
          "output_type": "execute_result",
          "data": {
            "text/plain": [
              "GaussianNB(priors=None, var_smoothing=1e-09)"
            ]
          },
          "metadata": {
            "tags": []
          },
          "execution_count": 57
        }
      ]
    },
    {
      "cell_type": "code",
      "metadata": {
        "id": "uBrFmSZvHnPc",
        "colab_type": "code",
        "outputId": "86928531-8cdc-4119-8381-ac12f5caed0d",
        "colab": {
          "base_uri": "https://localhost:8080/",
          "height": 36
        }
      },
      "source": [
        "gaussian_y_pred = gaussian_model.predict(X_test)\n",
        "gaussian_accuracy = accuracy_score(y_test, gaussian_y_pred)\n",
        "print(\"Accuracy: \" + str(gaussian_accuracy * 100) + \"%\")"
      ],
      "execution_count": 0,
      "outputs": [
        {
          "output_type": "stream",
          "text": [
            "Accuracy: 94.76263779918563%\n"
          ],
          "name": "stdout"
        }
      ]
    },
    {
      "cell_type": "code",
      "metadata": {
        "id": "NtiVjkcELBWs",
        "colab_type": "code",
        "outputId": "d91300be-5fcd-4520-ea08-2ad20f72c7f3",
        "colab": {
          "base_uri": "https://localhost:8080/",
          "height": 222
        }
      },
      "source": [
        "print(confusion_matrix(y_test, gaussian_y_pred))\n",
        "print(metrics.classification_report(y_test, gaussian_y_pred))"
      ],
      "execution_count": 0,
      "outputs": [
        {
          "output_type": "stream",
          "text": [
            "[[ 30491  20009]\n",
            " [  1085 351175]]\n",
            "              precision    recall  f1-score   support\n",
            "\n",
            "           0       0.97      0.60      0.74     50500\n",
            "           1       0.95      1.00      0.97    352260\n",
            "\n",
            "    accuracy                           0.95    402760\n",
            "   macro avg       0.96      0.80      0.86    402760\n",
            "weighted avg       0.95      0.95      0.94    402760\n",
            "\n"
          ],
          "name": "stdout"
        }
      ]
    },
    {
      "cell_type": "markdown",
      "metadata": {
        "id": "bY6mwDJ8HnPf",
        "colab_type": "text"
      },
      "source": [
        "Wow that recall is bad. \n",
        "\n",
        "The Gaussian model does not work well. Perhaps it could be optimized but I am getting far better results far faster with other models.  Random forest is still in the lead. "
      ]
    }
  ]
}